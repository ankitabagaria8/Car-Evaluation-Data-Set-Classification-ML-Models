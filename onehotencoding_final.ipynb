{
 "cells": [
  {
   "cell_type": "markdown",
   "metadata": {},
   "source": [
    "# Treating the categorical variable as Nominal Values "
   ]
  },
  {
   "cell_type": "markdown",
   "metadata": {},
   "source": [
    "Importing the dataset "
   ]
  },
  {
   "cell_type": "code",
   "execution_count": 1,
   "metadata": {},
   "outputs": [],
   "source": [
    "import pandas as pd\n",
    "\n",
    "df = pd.read_csv(\"car_data.csv\")"
   ]
  },
  {
   "cell_type": "code",
   "execution_count": 2,
   "metadata": {},
   "outputs": [
    {
     "data": {
      "text/html": [
       "<div>\n",
       "<style scoped>\n",
       "    .dataframe tbody tr th:only-of-type {\n",
       "        vertical-align: middle;\n",
       "    }\n",
       "\n",
       "    .dataframe tbody tr th {\n",
       "        vertical-align: top;\n",
       "    }\n",
       "\n",
       "    .dataframe thead th {\n",
       "        text-align: right;\n",
       "    }\n",
       "</style>\n",
       "<table border=\"1\" class=\"dataframe\">\n",
       "  <thead>\n",
       "    <tr style=\"text-align: right;\">\n",
       "      <th></th>\n",
       "      <th>buying</th>\n",
       "      <th>maint</th>\n",
       "      <th>doors</th>\n",
       "      <th>persons</th>\n",
       "      <th>lug_boot</th>\n",
       "      <th>safety</th>\n",
       "      <th>target</th>\n",
       "    </tr>\n",
       "  </thead>\n",
       "  <tbody>\n",
       "    <tr>\n",
       "      <th>0</th>\n",
       "      <td>vhigh</td>\n",
       "      <td>vhigh</td>\n",
       "      <td>2</td>\n",
       "      <td>2</td>\n",
       "      <td>small</td>\n",
       "      <td>low</td>\n",
       "      <td>unacc</td>\n",
       "    </tr>\n",
       "    <tr>\n",
       "      <th>1</th>\n",
       "      <td>vhigh</td>\n",
       "      <td>vhigh</td>\n",
       "      <td>2</td>\n",
       "      <td>2</td>\n",
       "      <td>small</td>\n",
       "      <td>med</td>\n",
       "      <td>unacc</td>\n",
       "    </tr>\n",
       "    <tr>\n",
       "      <th>2</th>\n",
       "      <td>vhigh</td>\n",
       "      <td>vhigh</td>\n",
       "      <td>2</td>\n",
       "      <td>2</td>\n",
       "      <td>small</td>\n",
       "      <td>high</td>\n",
       "      <td>unacc</td>\n",
       "    </tr>\n",
       "    <tr>\n",
       "      <th>3</th>\n",
       "      <td>vhigh</td>\n",
       "      <td>vhigh</td>\n",
       "      <td>2</td>\n",
       "      <td>2</td>\n",
       "      <td>med</td>\n",
       "      <td>low</td>\n",
       "      <td>unacc</td>\n",
       "    </tr>\n",
       "    <tr>\n",
       "      <th>4</th>\n",
       "      <td>vhigh</td>\n",
       "      <td>vhigh</td>\n",
       "      <td>2</td>\n",
       "      <td>2</td>\n",
       "      <td>med</td>\n",
       "      <td>med</td>\n",
       "      <td>unacc</td>\n",
       "    </tr>\n",
       "  </tbody>\n",
       "</table>\n",
       "</div>"
      ],
      "text/plain": [
       "  buying  maint doors persons lug_boot safety target\n",
       "0  vhigh  vhigh     2       2    small    low  unacc\n",
       "1  vhigh  vhigh     2       2    small    med  unacc\n",
       "2  vhigh  vhigh     2       2    small   high  unacc\n",
       "3  vhigh  vhigh     2       2      med    low  unacc\n",
       "4  vhigh  vhigh     2       2      med    med  unacc"
      ]
     },
     "execution_count": 2,
     "metadata": {},
     "output_type": "execute_result"
    }
   ],
   "source": [
    "df.head()"
   ]
  },
  {
   "cell_type": "code",
   "execution_count": 3,
   "metadata": {},
   "outputs": [],
   "source": [
    "df['persons'].unique()\n",
    "df['persons'] = df['persons'].map({'2':2, '4':4, 'more':5})\n",
    "\n",
    "df['doors'].unique()\n",
    "df['doors'] = df['doors'].map({'2':2, '3':3, '4':4, '5more':5})"
   ]
  },
  {
   "cell_type": "markdown",
   "metadata": {},
   "source": [
    "Label Encoding for target variable "
   ]
  },
  {
   "cell_type": "code",
   "execution_count": 4,
   "metadata": {},
   "outputs": [],
   "source": [
    "from sklearn import linear_model, metrics, preprocessing\n",
    "le = preprocessing.LabelEncoder()\n",
    "le.fit(df.target)\n",
    "df.target = le.transform(df.target)"
   ]
  },
  {
   "cell_type": "code",
   "execution_count": 5,
   "metadata": {},
   "outputs": [],
   "source": [
    "X = df.iloc[:,list(range(0,len(df.columns)-1))]\n",
    "y = df.iloc[:, 6]"
   ]
  },
  {
   "cell_type": "code",
   "execution_count": 6,
   "metadata": {},
   "outputs": [
    {
     "data": {
      "text/plain": [
       "Index(['buying', 'maint', 'lug_boot', 'safety'], dtype='object')"
      ]
     },
     "execution_count": 6,
     "metadata": {},
     "output_type": "execute_result"
    }
   ],
   "source": [
    "# checking features and separating the categorical variables \n",
    "cat = X.select_dtypes(include='O').keys()\n",
    "cat"
   ]
  },
  {
   "cell_type": "code",
   "execution_count": 7,
   "metadata": {},
   "outputs": [
    {
     "data": {
      "text/html": [
       "<div>\n",
       "<style scoped>\n",
       "    .dataframe tbody tr th:only-of-type {\n",
       "        vertical-align: middle;\n",
       "    }\n",
       "\n",
       "    .dataframe tbody tr th {\n",
       "        vertical-align: top;\n",
       "    }\n",
       "\n",
       "    .dataframe thead th {\n",
       "        text-align: right;\n",
       "    }\n",
       "</style>\n",
       "<table border=\"1\" class=\"dataframe\">\n",
       "  <thead>\n",
       "    <tr style=\"text-align: right;\">\n",
       "      <th></th>\n",
       "      <th>buying</th>\n",
       "      <th>maint</th>\n",
       "      <th>lug_boot</th>\n",
       "      <th>safety</th>\n",
       "    </tr>\n",
       "  </thead>\n",
       "  <tbody>\n",
       "    <tr>\n",
       "      <th>0</th>\n",
       "      <td>vhigh</td>\n",
       "      <td>vhigh</td>\n",
       "      <td>small</td>\n",
       "      <td>low</td>\n",
       "    </tr>\n",
       "    <tr>\n",
       "      <th>1</th>\n",
       "      <td>vhigh</td>\n",
       "      <td>vhigh</td>\n",
       "      <td>small</td>\n",
       "      <td>med</td>\n",
       "    </tr>\n",
       "    <tr>\n",
       "      <th>2</th>\n",
       "      <td>vhigh</td>\n",
       "      <td>vhigh</td>\n",
       "      <td>small</td>\n",
       "      <td>high</td>\n",
       "    </tr>\n",
       "    <tr>\n",
       "      <th>3</th>\n",
       "      <td>vhigh</td>\n",
       "      <td>vhigh</td>\n",
       "      <td>med</td>\n",
       "      <td>low</td>\n",
       "    </tr>\n",
       "    <tr>\n",
       "      <th>4</th>\n",
       "      <td>vhigh</td>\n",
       "      <td>vhigh</td>\n",
       "      <td>med</td>\n",
       "      <td>med</td>\n",
       "    </tr>\n",
       "  </tbody>\n",
       "</table>\n",
       "</div>"
      ],
      "text/plain": [
       "  buying  maint lug_boot safety\n",
       "0  vhigh  vhigh    small    low\n",
       "1  vhigh  vhigh    small    med\n",
       "2  vhigh  vhigh    small   high\n",
       "3  vhigh  vhigh      med    low\n",
       "4  vhigh  vhigh      med    med"
      ]
     },
     "execution_count": 7,
     "metadata": {},
     "output_type": "execute_result"
    }
   ],
   "source": [
    "# creating new df\n",
    "# setting columns we use\n",
    "new_df = pd.read_csv(\"car_data.csv\",usecols=['buying', 'maint', 'lug_boot', 'safety']) \n",
    "new_df.head()"
   ]
  },
  {
   "cell_type": "code",
   "execution_count": 8,
   "metadata": {},
   "outputs": [],
   "source": [
    "col_dummies = pd.get_dummies(df[['buying', 'maint', 'lug_boot', 'safety']])"
   ]
  },
  {
   "cell_type": "code",
   "execution_count": 9,
   "metadata": {},
   "outputs": [],
   "source": [
    "df = pd.concat([df, col_dummies], axis=1)"
   ]
  },
  {
   "cell_type": "code",
   "execution_count": 10,
   "metadata": {},
   "outputs": [
    {
     "data": {
      "text/html": [
       "<div>\n",
       "<style scoped>\n",
       "    .dataframe tbody tr th:only-of-type {\n",
       "        vertical-align: middle;\n",
       "    }\n",
       "\n",
       "    .dataframe tbody tr th {\n",
       "        vertical-align: top;\n",
       "    }\n",
       "\n",
       "    .dataframe thead th {\n",
       "        text-align: right;\n",
       "    }\n",
       "</style>\n",
       "<table border=\"1\" class=\"dataframe\">\n",
       "  <thead>\n",
       "    <tr style=\"text-align: right;\">\n",
       "      <th></th>\n",
       "      <th>doors</th>\n",
       "      <th>persons</th>\n",
       "      <th>target</th>\n",
       "      <th>buying_high</th>\n",
       "      <th>buying_low</th>\n",
       "      <th>buying_med</th>\n",
       "      <th>buying_vhigh</th>\n",
       "      <th>maint_high</th>\n",
       "      <th>maint_low</th>\n",
       "      <th>maint_med</th>\n",
       "      <th>maint_vhigh</th>\n",
       "      <th>lug_boot_big</th>\n",
       "      <th>lug_boot_med</th>\n",
       "      <th>lug_boot_small</th>\n",
       "      <th>safety_high</th>\n",
       "      <th>safety_low</th>\n",
       "      <th>safety_med</th>\n",
       "    </tr>\n",
       "  </thead>\n",
       "  <tbody>\n",
       "    <tr>\n",
       "      <th>0</th>\n",
       "      <td>2</td>\n",
       "      <td>2</td>\n",
       "      <td>2</td>\n",
       "      <td>0</td>\n",
       "      <td>0</td>\n",
       "      <td>0</td>\n",
       "      <td>1</td>\n",
       "      <td>0</td>\n",
       "      <td>0</td>\n",
       "      <td>0</td>\n",
       "      <td>1</td>\n",
       "      <td>0</td>\n",
       "      <td>0</td>\n",
       "      <td>1</td>\n",
       "      <td>0</td>\n",
       "      <td>1</td>\n",
       "      <td>0</td>\n",
       "    </tr>\n",
       "    <tr>\n",
       "      <th>1</th>\n",
       "      <td>2</td>\n",
       "      <td>2</td>\n",
       "      <td>2</td>\n",
       "      <td>0</td>\n",
       "      <td>0</td>\n",
       "      <td>0</td>\n",
       "      <td>1</td>\n",
       "      <td>0</td>\n",
       "      <td>0</td>\n",
       "      <td>0</td>\n",
       "      <td>1</td>\n",
       "      <td>0</td>\n",
       "      <td>0</td>\n",
       "      <td>1</td>\n",
       "      <td>0</td>\n",
       "      <td>0</td>\n",
       "      <td>1</td>\n",
       "    </tr>\n",
       "    <tr>\n",
       "      <th>2</th>\n",
       "      <td>2</td>\n",
       "      <td>2</td>\n",
       "      <td>2</td>\n",
       "      <td>0</td>\n",
       "      <td>0</td>\n",
       "      <td>0</td>\n",
       "      <td>1</td>\n",
       "      <td>0</td>\n",
       "      <td>0</td>\n",
       "      <td>0</td>\n",
       "      <td>1</td>\n",
       "      <td>0</td>\n",
       "      <td>0</td>\n",
       "      <td>1</td>\n",
       "      <td>1</td>\n",
       "      <td>0</td>\n",
       "      <td>0</td>\n",
       "    </tr>\n",
       "    <tr>\n",
       "      <th>3</th>\n",
       "      <td>2</td>\n",
       "      <td>2</td>\n",
       "      <td>2</td>\n",
       "      <td>0</td>\n",
       "      <td>0</td>\n",
       "      <td>0</td>\n",
       "      <td>1</td>\n",
       "      <td>0</td>\n",
       "      <td>0</td>\n",
       "      <td>0</td>\n",
       "      <td>1</td>\n",
       "      <td>0</td>\n",
       "      <td>1</td>\n",
       "      <td>0</td>\n",
       "      <td>0</td>\n",
       "      <td>1</td>\n",
       "      <td>0</td>\n",
       "    </tr>\n",
       "    <tr>\n",
       "      <th>4</th>\n",
       "      <td>2</td>\n",
       "      <td>2</td>\n",
       "      <td>2</td>\n",
       "      <td>0</td>\n",
       "      <td>0</td>\n",
       "      <td>0</td>\n",
       "      <td>1</td>\n",
       "      <td>0</td>\n",
       "      <td>0</td>\n",
       "      <td>0</td>\n",
       "      <td>1</td>\n",
       "      <td>0</td>\n",
       "      <td>1</td>\n",
       "      <td>0</td>\n",
       "      <td>0</td>\n",
       "      <td>0</td>\n",
       "      <td>1</td>\n",
       "    </tr>\n",
       "    <tr>\n",
       "      <th>...</th>\n",
       "      <td>...</td>\n",
       "      <td>...</td>\n",
       "      <td>...</td>\n",
       "      <td>...</td>\n",
       "      <td>...</td>\n",
       "      <td>...</td>\n",
       "      <td>...</td>\n",
       "      <td>...</td>\n",
       "      <td>...</td>\n",
       "      <td>...</td>\n",
       "      <td>...</td>\n",
       "      <td>...</td>\n",
       "      <td>...</td>\n",
       "      <td>...</td>\n",
       "      <td>...</td>\n",
       "      <td>...</td>\n",
       "      <td>...</td>\n",
       "    </tr>\n",
       "    <tr>\n",
       "      <th>1723</th>\n",
       "      <td>5</td>\n",
       "      <td>5</td>\n",
       "      <td>1</td>\n",
       "      <td>0</td>\n",
       "      <td>1</td>\n",
       "      <td>0</td>\n",
       "      <td>0</td>\n",
       "      <td>0</td>\n",
       "      <td>1</td>\n",
       "      <td>0</td>\n",
       "      <td>0</td>\n",
       "      <td>0</td>\n",
       "      <td>1</td>\n",
       "      <td>0</td>\n",
       "      <td>0</td>\n",
       "      <td>0</td>\n",
       "      <td>1</td>\n",
       "    </tr>\n",
       "    <tr>\n",
       "      <th>1724</th>\n",
       "      <td>5</td>\n",
       "      <td>5</td>\n",
       "      <td>3</td>\n",
       "      <td>0</td>\n",
       "      <td>1</td>\n",
       "      <td>0</td>\n",
       "      <td>0</td>\n",
       "      <td>0</td>\n",
       "      <td>1</td>\n",
       "      <td>0</td>\n",
       "      <td>0</td>\n",
       "      <td>0</td>\n",
       "      <td>1</td>\n",
       "      <td>0</td>\n",
       "      <td>1</td>\n",
       "      <td>0</td>\n",
       "      <td>0</td>\n",
       "    </tr>\n",
       "    <tr>\n",
       "      <th>1725</th>\n",
       "      <td>5</td>\n",
       "      <td>5</td>\n",
       "      <td>2</td>\n",
       "      <td>0</td>\n",
       "      <td>1</td>\n",
       "      <td>0</td>\n",
       "      <td>0</td>\n",
       "      <td>0</td>\n",
       "      <td>1</td>\n",
       "      <td>0</td>\n",
       "      <td>0</td>\n",
       "      <td>1</td>\n",
       "      <td>0</td>\n",
       "      <td>0</td>\n",
       "      <td>0</td>\n",
       "      <td>1</td>\n",
       "      <td>0</td>\n",
       "    </tr>\n",
       "    <tr>\n",
       "      <th>1726</th>\n",
       "      <td>5</td>\n",
       "      <td>5</td>\n",
       "      <td>1</td>\n",
       "      <td>0</td>\n",
       "      <td>1</td>\n",
       "      <td>0</td>\n",
       "      <td>0</td>\n",
       "      <td>0</td>\n",
       "      <td>1</td>\n",
       "      <td>0</td>\n",
       "      <td>0</td>\n",
       "      <td>1</td>\n",
       "      <td>0</td>\n",
       "      <td>0</td>\n",
       "      <td>0</td>\n",
       "      <td>0</td>\n",
       "      <td>1</td>\n",
       "    </tr>\n",
       "    <tr>\n",
       "      <th>1727</th>\n",
       "      <td>5</td>\n",
       "      <td>5</td>\n",
       "      <td>3</td>\n",
       "      <td>0</td>\n",
       "      <td>1</td>\n",
       "      <td>0</td>\n",
       "      <td>0</td>\n",
       "      <td>0</td>\n",
       "      <td>1</td>\n",
       "      <td>0</td>\n",
       "      <td>0</td>\n",
       "      <td>1</td>\n",
       "      <td>0</td>\n",
       "      <td>0</td>\n",
       "      <td>1</td>\n",
       "      <td>0</td>\n",
       "      <td>0</td>\n",
       "    </tr>\n",
       "  </tbody>\n",
       "</table>\n",
       "<p>1728 rows × 17 columns</p>\n",
       "</div>"
      ],
      "text/plain": [
       "      doors  persons  target  buying_high  buying_low  buying_med  \\\n",
       "0         2        2       2            0           0           0   \n",
       "1         2        2       2            0           0           0   \n",
       "2         2        2       2            0           0           0   \n",
       "3         2        2       2            0           0           0   \n",
       "4         2        2       2            0           0           0   \n",
       "...     ...      ...     ...          ...         ...         ...   \n",
       "1723      5        5       1            0           1           0   \n",
       "1724      5        5       3            0           1           0   \n",
       "1725      5        5       2            0           1           0   \n",
       "1726      5        5       1            0           1           0   \n",
       "1727      5        5       3            0           1           0   \n",
       "\n",
       "      buying_vhigh  maint_high  maint_low  maint_med  maint_vhigh  \\\n",
       "0                1           0          0          0            1   \n",
       "1                1           0          0          0            1   \n",
       "2                1           0          0          0            1   \n",
       "3                1           0          0          0            1   \n",
       "4                1           0          0          0            1   \n",
       "...            ...         ...        ...        ...          ...   \n",
       "1723             0           0          1          0            0   \n",
       "1724             0           0          1          0            0   \n",
       "1725             0           0          1          0            0   \n",
       "1726             0           0          1          0            0   \n",
       "1727             0           0          1          0            0   \n",
       "\n",
       "      lug_boot_big  lug_boot_med  lug_boot_small  safety_high  safety_low  \\\n",
       "0                0             0               1            0           1   \n",
       "1                0             0               1            0           0   \n",
       "2                0             0               1            1           0   \n",
       "3                0             1               0            0           1   \n",
       "4                0             1               0            0           0   \n",
       "...            ...           ...             ...          ...         ...   \n",
       "1723             0             1               0            0           0   \n",
       "1724             0             1               0            1           0   \n",
       "1725             1             0               0            0           1   \n",
       "1726             1             0               0            0           0   \n",
       "1727             1             0               0            1           0   \n",
       "\n",
       "      safety_med  \n",
       "0              0  \n",
       "1              1  \n",
       "2              0  \n",
       "3              0  \n",
       "4              1  \n",
       "...          ...  \n",
       "1723           1  \n",
       "1724           0  \n",
       "1725           0  \n",
       "1726           1  \n",
       "1727           0  \n",
       "\n",
       "[1728 rows x 17 columns]"
      ]
     },
     "execution_count": 10,
     "metadata": {},
     "output_type": "execute_result"
    }
   ],
   "source": [
    "df = df.drop(['buying', 'maint', 'lug_boot', 'safety'], axis = 1)\n",
    "df"
   ]
  },
  {
   "cell_type": "code",
   "execution_count": 11,
   "metadata": {},
   "outputs": [],
   "source": [
    "X = df.drop(['target'], axis=1)\n",
    "y = df['target']"
   ]
  },
  {
   "cell_type": "code",
   "execution_count": 12,
   "metadata": {},
   "outputs": [
    {
     "data": {
      "text/html": [
       "<div>\n",
       "<style scoped>\n",
       "    .dataframe tbody tr th:only-of-type {\n",
       "        vertical-align: middle;\n",
       "    }\n",
       "\n",
       "    .dataframe tbody tr th {\n",
       "        vertical-align: top;\n",
       "    }\n",
       "\n",
       "    .dataframe thead th {\n",
       "        text-align: right;\n",
       "    }\n",
       "</style>\n",
       "<table border=\"1\" class=\"dataframe\">\n",
       "  <thead>\n",
       "    <tr style=\"text-align: right;\">\n",
       "      <th></th>\n",
       "      <th>doors</th>\n",
       "      <th>persons</th>\n",
       "      <th>buying_high</th>\n",
       "      <th>buying_low</th>\n",
       "      <th>buying_med</th>\n",
       "      <th>buying_vhigh</th>\n",
       "      <th>maint_high</th>\n",
       "      <th>maint_low</th>\n",
       "      <th>maint_med</th>\n",
       "      <th>maint_vhigh</th>\n",
       "      <th>lug_boot_big</th>\n",
       "      <th>lug_boot_med</th>\n",
       "      <th>lug_boot_small</th>\n",
       "      <th>safety_high</th>\n",
       "      <th>safety_low</th>\n",
       "      <th>safety_med</th>\n",
       "    </tr>\n",
       "  </thead>\n",
       "  <tbody>\n",
       "    <tr>\n",
       "      <th>0</th>\n",
       "      <td>2</td>\n",
       "      <td>2</td>\n",
       "      <td>0</td>\n",
       "      <td>0</td>\n",
       "      <td>0</td>\n",
       "      <td>1</td>\n",
       "      <td>0</td>\n",
       "      <td>0</td>\n",
       "      <td>0</td>\n",
       "      <td>1</td>\n",
       "      <td>0</td>\n",
       "      <td>0</td>\n",
       "      <td>1</td>\n",
       "      <td>0</td>\n",
       "      <td>1</td>\n",
       "      <td>0</td>\n",
       "    </tr>\n",
       "    <tr>\n",
       "      <th>1</th>\n",
       "      <td>2</td>\n",
       "      <td>2</td>\n",
       "      <td>0</td>\n",
       "      <td>0</td>\n",
       "      <td>0</td>\n",
       "      <td>1</td>\n",
       "      <td>0</td>\n",
       "      <td>0</td>\n",
       "      <td>0</td>\n",
       "      <td>1</td>\n",
       "      <td>0</td>\n",
       "      <td>0</td>\n",
       "      <td>1</td>\n",
       "      <td>0</td>\n",
       "      <td>0</td>\n",
       "      <td>1</td>\n",
       "    </tr>\n",
       "    <tr>\n",
       "      <th>2</th>\n",
       "      <td>2</td>\n",
       "      <td>2</td>\n",
       "      <td>0</td>\n",
       "      <td>0</td>\n",
       "      <td>0</td>\n",
       "      <td>1</td>\n",
       "      <td>0</td>\n",
       "      <td>0</td>\n",
       "      <td>0</td>\n",
       "      <td>1</td>\n",
       "      <td>0</td>\n",
       "      <td>0</td>\n",
       "      <td>1</td>\n",
       "      <td>1</td>\n",
       "      <td>0</td>\n",
       "      <td>0</td>\n",
       "    </tr>\n",
       "    <tr>\n",
       "      <th>3</th>\n",
       "      <td>2</td>\n",
       "      <td>2</td>\n",
       "      <td>0</td>\n",
       "      <td>0</td>\n",
       "      <td>0</td>\n",
       "      <td>1</td>\n",
       "      <td>0</td>\n",
       "      <td>0</td>\n",
       "      <td>0</td>\n",
       "      <td>1</td>\n",
       "      <td>0</td>\n",
       "      <td>1</td>\n",
       "      <td>0</td>\n",
       "      <td>0</td>\n",
       "      <td>1</td>\n",
       "      <td>0</td>\n",
       "    </tr>\n",
       "    <tr>\n",
       "      <th>4</th>\n",
       "      <td>2</td>\n",
       "      <td>2</td>\n",
       "      <td>0</td>\n",
       "      <td>0</td>\n",
       "      <td>0</td>\n",
       "      <td>1</td>\n",
       "      <td>0</td>\n",
       "      <td>0</td>\n",
       "      <td>0</td>\n",
       "      <td>1</td>\n",
       "      <td>0</td>\n",
       "      <td>1</td>\n",
       "      <td>0</td>\n",
       "      <td>0</td>\n",
       "      <td>0</td>\n",
       "      <td>1</td>\n",
       "    </tr>\n",
       "  </tbody>\n",
       "</table>\n",
       "</div>"
      ],
      "text/plain": [
       "   doors  persons  buying_high  buying_low  buying_med  buying_vhigh  \\\n",
       "0      2        2            0           0           0             1   \n",
       "1      2        2            0           0           0             1   \n",
       "2      2        2            0           0           0             1   \n",
       "3      2        2            0           0           0             1   \n",
       "4      2        2            0           0           0             1   \n",
       "\n",
       "   maint_high  maint_low  maint_med  maint_vhigh  lug_boot_big  lug_boot_med  \\\n",
       "0           0          0          0            1             0             0   \n",
       "1           0          0          0            1             0             0   \n",
       "2           0          0          0            1             0             0   \n",
       "3           0          0          0            1             0             1   \n",
       "4           0          0          0            1             0             1   \n",
       "\n",
       "   lug_boot_small  safety_high  safety_low  safety_med  \n",
       "0               1            0           1           0  \n",
       "1               1            0           0           1  \n",
       "2               1            1           0           0  \n",
       "3               0            0           1           0  \n",
       "4               0            0           0           1  "
      ]
     },
     "execution_count": 12,
     "metadata": {},
     "output_type": "execute_result"
    }
   ],
   "source": [
    "X.head()"
   ]
  },
  {
   "cell_type": "code",
   "execution_count": 13,
   "metadata": {},
   "outputs": [
    {
     "data": {
      "text/plain": [
       "array([2, 0, 3, 1])"
      ]
     },
     "execution_count": 13,
     "metadata": {},
     "output_type": "execute_result"
    }
   ],
   "source": [
    "y.head()\n",
    "y.unique()"
   ]
  },
  {
   "cell_type": "code",
   "execution_count": 14,
   "metadata": {},
   "outputs": [
    {
     "data": {
      "text/plain": [
       "doors             0\n",
       "persons           0\n",
       "target            0\n",
       "buying_high       0\n",
       "buying_low        0\n",
       "buying_med        0\n",
       "buying_vhigh      0\n",
       "maint_high        0\n",
       "maint_low         0\n",
       "maint_med         0\n",
       "maint_vhigh       0\n",
       "lug_boot_big      0\n",
       "lug_boot_med      0\n",
       "lug_boot_small    0\n",
       "safety_high       0\n",
       "safety_low        0\n",
       "safety_med        0\n",
       "dtype: int64"
      ]
     },
     "execution_count": 14,
     "metadata": {},
     "output_type": "execute_result"
    }
   ],
   "source": [
    "df.isnull().sum()"
   ]
  },
  {
   "cell_type": "code",
   "execution_count": 15,
   "metadata": {},
   "outputs": [
    {
     "data": {
      "text/html": [
       "<div>\n",
       "<style scoped>\n",
       "    .dataframe tbody tr th:only-of-type {\n",
       "        vertical-align: middle;\n",
       "    }\n",
       "\n",
       "    .dataframe tbody tr th {\n",
       "        vertical-align: top;\n",
       "    }\n",
       "\n",
       "    .dataframe thead th {\n",
       "        text-align: right;\n",
       "    }\n",
       "</style>\n",
       "<table border=\"1\" class=\"dataframe\">\n",
       "  <thead>\n",
       "    <tr style=\"text-align: right;\">\n",
       "      <th></th>\n",
       "      <th>doors</th>\n",
       "      <th>persons</th>\n",
       "      <th>target</th>\n",
       "      <th>buying_high</th>\n",
       "      <th>buying_low</th>\n",
       "      <th>buying_med</th>\n",
       "      <th>buying_vhigh</th>\n",
       "      <th>maint_high</th>\n",
       "      <th>maint_low</th>\n",
       "      <th>maint_med</th>\n",
       "      <th>maint_vhigh</th>\n",
       "      <th>lug_boot_big</th>\n",
       "      <th>lug_boot_med</th>\n",
       "      <th>lug_boot_small</th>\n",
       "      <th>safety_high</th>\n",
       "      <th>safety_low</th>\n",
       "      <th>safety_med</th>\n",
       "    </tr>\n",
       "  </thead>\n",
       "  <tbody>\n",
       "    <tr>\n",
       "      <th>count</th>\n",
       "      <td>1728.000000</td>\n",
       "      <td>1728.000000</td>\n",
       "      <td>1728.000000</td>\n",
       "      <td>1728.000000</td>\n",
       "      <td>1728.000000</td>\n",
       "      <td>1728.000000</td>\n",
       "      <td>1728.000000</td>\n",
       "      <td>1728.000000</td>\n",
       "      <td>1728.000000</td>\n",
       "      <td>1728.000000</td>\n",
       "      <td>1728.000000</td>\n",
       "      <td>1728.000000</td>\n",
       "      <td>1728.000000</td>\n",
       "      <td>1728.000000</td>\n",
       "      <td>1728.000000</td>\n",
       "      <td>1728.000000</td>\n",
       "      <td>1728.000000</td>\n",
       "    </tr>\n",
       "    <tr>\n",
       "      <th>mean</th>\n",
       "      <td>3.500000</td>\n",
       "      <td>3.666667</td>\n",
       "      <td>1.553241</td>\n",
       "      <td>0.250000</td>\n",
       "      <td>0.250000</td>\n",
       "      <td>0.250000</td>\n",
       "      <td>0.250000</td>\n",
       "      <td>0.250000</td>\n",
       "      <td>0.250000</td>\n",
       "      <td>0.250000</td>\n",
       "      <td>0.250000</td>\n",
       "      <td>0.333333</td>\n",
       "      <td>0.333333</td>\n",
       "      <td>0.333333</td>\n",
       "      <td>0.333333</td>\n",
       "      <td>0.333333</td>\n",
       "      <td>0.333333</td>\n",
       "    </tr>\n",
       "    <tr>\n",
       "      <th>std</th>\n",
       "      <td>1.118358</td>\n",
       "      <td>1.247580</td>\n",
       "      <td>0.875948</td>\n",
       "      <td>0.433138</td>\n",
       "      <td>0.433138</td>\n",
       "      <td>0.433138</td>\n",
       "      <td>0.433138</td>\n",
       "      <td>0.433138</td>\n",
       "      <td>0.433138</td>\n",
       "      <td>0.433138</td>\n",
       "      <td>0.433138</td>\n",
       "      <td>0.471541</td>\n",
       "      <td>0.471541</td>\n",
       "      <td>0.471541</td>\n",
       "      <td>0.471541</td>\n",
       "      <td>0.471541</td>\n",
       "      <td>0.471541</td>\n",
       "    </tr>\n",
       "    <tr>\n",
       "      <th>min</th>\n",
       "      <td>2.000000</td>\n",
       "      <td>2.000000</td>\n",
       "      <td>0.000000</td>\n",
       "      <td>0.000000</td>\n",
       "      <td>0.000000</td>\n",
       "      <td>0.000000</td>\n",
       "      <td>0.000000</td>\n",
       "      <td>0.000000</td>\n",
       "      <td>0.000000</td>\n",
       "      <td>0.000000</td>\n",
       "      <td>0.000000</td>\n",
       "      <td>0.000000</td>\n",
       "      <td>0.000000</td>\n",
       "      <td>0.000000</td>\n",
       "      <td>0.000000</td>\n",
       "      <td>0.000000</td>\n",
       "      <td>0.000000</td>\n",
       "    </tr>\n",
       "    <tr>\n",
       "      <th>25%</th>\n",
       "      <td>2.750000</td>\n",
       "      <td>2.000000</td>\n",
       "      <td>1.000000</td>\n",
       "      <td>0.000000</td>\n",
       "      <td>0.000000</td>\n",
       "      <td>0.000000</td>\n",
       "      <td>0.000000</td>\n",
       "      <td>0.000000</td>\n",
       "      <td>0.000000</td>\n",
       "      <td>0.000000</td>\n",
       "      <td>0.000000</td>\n",
       "      <td>0.000000</td>\n",
       "      <td>0.000000</td>\n",
       "      <td>0.000000</td>\n",
       "      <td>0.000000</td>\n",
       "      <td>0.000000</td>\n",
       "      <td>0.000000</td>\n",
       "    </tr>\n",
       "    <tr>\n",
       "      <th>50%</th>\n",
       "      <td>3.500000</td>\n",
       "      <td>4.000000</td>\n",
       "      <td>2.000000</td>\n",
       "      <td>0.000000</td>\n",
       "      <td>0.000000</td>\n",
       "      <td>0.000000</td>\n",
       "      <td>0.000000</td>\n",
       "      <td>0.000000</td>\n",
       "      <td>0.000000</td>\n",
       "      <td>0.000000</td>\n",
       "      <td>0.000000</td>\n",
       "      <td>0.000000</td>\n",
       "      <td>0.000000</td>\n",
       "      <td>0.000000</td>\n",
       "      <td>0.000000</td>\n",
       "      <td>0.000000</td>\n",
       "      <td>0.000000</td>\n",
       "    </tr>\n",
       "    <tr>\n",
       "      <th>75%</th>\n",
       "      <td>4.250000</td>\n",
       "      <td>5.000000</td>\n",
       "      <td>2.000000</td>\n",
       "      <td>0.250000</td>\n",
       "      <td>0.250000</td>\n",
       "      <td>0.250000</td>\n",
       "      <td>0.250000</td>\n",
       "      <td>0.250000</td>\n",
       "      <td>0.250000</td>\n",
       "      <td>0.250000</td>\n",
       "      <td>0.250000</td>\n",
       "      <td>1.000000</td>\n",
       "      <td>1.000000</td>\n",
       "      <td>1.000000</td>\n",
       "      <td>1.000000</td>\n",
       "      <td>1.000000</td>\n",
       "      <td>1.000000</td>\n",
       "    </tr>\n",
       "    <tr>\n",
       "      <th>max</th>\n",
       "      <td>5.000000</td>\n",
       "      <td>5.000000</td>\n",
       "      <td>3.000000</td>\n",
       "      <td>1.000000</td>\n",
       "      <td>1.000000</td>\n",
       "      <td>1.000000</td>\n",
       "      <td>1.000000</td>\n",
       "      <td>1.000000</td>\n",
       "      <td>1.000000</td>\n",
       "      <td>1.000000</td>\n",
       "      <td>1.000000</td>\n",
       "      <td>1.000000</td>\n",
       "      <td>1.000000</td>\n",
       "      <td>1.000000</td>\n",
       "      <td>1.000000</td>\n",
       "      <td>1.000000</td>\n",
       "      <td>1.000000</td>\n",
       "    </tr>\n",
       "  </tbody>\n",
       "</table>\n",
       "</div>"
      ],
      "text/plain": [
       "             doors      persons       target  buying_high   buying_low  \\\n",
       "count  1728.000000  1728.000000  1728.000000  1728.000000  1728.000000   \n",
       "mean      3.500000     3.666667     1.553241     0.250000     0.250000   \n",
       "std       1.118358     1.247580     0.875948     0.433138     0.433138   \n",
       "min       2.000000     2.000000     0.000000     0.000000     0.000000   \n",
       "25%       2.750000     2.000000     1.000000     0.000000     0.000000   \n",
       "50%       3.500000     4.000000     2.000000     0.000000     0.000000   \n",
       "75%       4.250000     5.000000     2.000000     0.250000     0.250000   \n",
       "max       5.000000     5.000000     3.000000     1.000000     1.000000   \n",
       "\n",
       "        buying_med  buying_vhigh   maint_high    maint_low    maint_med  \\\n",
       "count  1728.000000   1728.000000  1728.000000  1728.000000  1728.000000   \n",
       "mean      0.250000      0.250000     0.250000     0.250000     0.250000   \n",
       "std       0.433138      0.433138     0.433138     0.433138     0.433138   \n",
       "min       0.000000      0.000000     0.000000     0.000000     0.000000   \n",
       "25%       0.000000      0.000000     0.000000     0.000000     0.000000   \n",
       "50%       0.000000      0.000000     0.000000     0.000000     0.000000   \n",
       "75%       0.250000      0.250000     0.250000     0.250000     0.250000   \n",
       "max       1.000000      1.000000     1.000000     1.000000     1.000000   \n",
       "\n",
       "       maint_vhigh  lug_boot_big  lug_boot_med  lug_boot_small  safety_high  \\\n",
       "count  1728.000000   1728.000000   1728.000000     1728.000000  1728.000000   \n",
       "mean      0.250000      0.333333      0.333333        0.333333     0.333333   \n",
       "std       0.433138      0.471541      0.471541        0.471541     0.471541   \n",
       "min       0.000000      0.000000      0.000000        0.000000     0.000000   \n",
       "25%       0.000000      0.000000      0.000000        0.000000     0.000000   \n",
       "50%       0.000000      0.000000      0.000000        0.000000     0.000000   \n",
       "75%       0.250000      1.000000      1.000000        1.000000     1.000000   \n",
       "max       1.000000      1.000000      1.000000        1.000000     1.000000   \n",
       "\n",
       "        safety_low   safety_med  \n",
       "count  1728.000000  1728.000000  \n",
       "mean      0.333333     0.333333  \n",
       "std       0.471541     0.471541  \n",
       "min       0.000000     0.000000  \n",
       "25%       0.000000     0.000000  \n",
       "50%       0.000000     0.000000  \n",
       "75%       1.000000     1.000000  \n",
       "max       1.000000     1.000000  "
      ]
     },
     "execution_count": 15,
     "metadata": {},
     "output_type": "execute_result"
    }
   ],
   "source": [
    "df.describe()"
   ]
  },
  {
   "cell_type": "code",
   "execution_count": 16,
   "metadata": {},
   "outputs": [
    {
     "name": "stdout",
     "output_type": "stream",
     "text": [
      "<class 'pandas.core.frame.DataFrame'>\n",
      "RangeIndex: 1728 entries, 0 to 1727\n",
      "Data columns (total 17 columns):\n",
      " #   Column          Non-Null Count  Dtype\n",
      "---  ------          --------------  -----\n",
      " 0   doors           1728 non-null   int64\n",
      " 1   persons         1728 non-null   int64\n",
      " 2   target          1728 non-null   int32\n",
      " 3   buying_high     1728 non-null   uint8\n",
      " 4   buying_low      1728 non-null   uint8\n",
      " 5   buying_med      1728 non-null   uint8\n",
      " 6   buying_vhigh    1728 non-null   uint8\n",
      " 7   maint_high      1728 non-null   uint8\n",
      " 8   maint_low       1728 non-null   uint8\n",
      " 9   maint_med       1728 non-null   uint8\n",
      " 10  maint_vhigh     1728 non-null   uint8\n",
      " 11  lug_boot_big    1728 non-null   uint8\n",
      " 12  lug_boot_med    1728 non-null   uint8\n",
      " 13  lug_boot_small  1728 non-null   uint8\n",
      " 14  safety_high     1728 non-null   uint8\n",
      " 15  safety_low      1728 non-null   uint8\n",
      " 16  safety_med      1728 non-null   uint8\n",
      "dtypes: int32(1), int64(2), uint8(14)\n",
      "memory usage: 57.5 KB\n"
     ]
    }
   ],
   "source": [
    "df.info()"
   ]
  },
  {
   "cell_type": "code",
   "execution_count": 17,
   "metadata": {},
   "outputs": [
    {
     "data": {
      "text/plain": [
       "2    1210\n",
       "0     384\n",
       "1      69\n",
       "3      65\n",
       "Name: target, dtype: int64"
      ]
     },
     "execution_count": 17,
     "metadata": {},
     "output_type": "execute_result"
    }
   ],
   "source": [
    "## Checking the distribution of target value classes in the dataset \n",
    "\n",
    "y.value_counts()\n"
   ]
  },
  {
   "cell_type": "code",
   "execution_count": null,
   "metadata": {},
   "outputs": [],
   "source": [
    "import matplotlib.pyplot as plt\n",
    "y.value_counts().plot(kind = 'bar')\n",
    "plt.show()"
   ]
  },
  {
   "cell_type": "markdown",
   "metadata": {},
   "source": [
    "It can be seen that this is a class imbalanced dataset, hence oversampling needs to be done to take care of this. "
   ]
  },
  {
   "cell_type": "code",
   "execution_count": 19,
   "metadata": {},
   "outputs": [
    {
     "name": "stdout",
     "output_type": "stream",
     "text": [
      "Class=2, n=1210 (70.023%)\n",
      "Class=0, n=384 (22.222%)\n",
      "Class=3, n=65 (3.762%)\n",
      "Class=1, n=69 (3.993%)\n"
     ]
    },
    {
     "data": {
      "image/png": "[encoded data removed]",
      "text/plain": [
       "<Figure size 432x288 with 1 Axes>"
      ]
     },
     "metadata": {
      "needs_background": "light"
     },
     "output_type": "display_data"
    }
   ],
   "source": [
    "# split into input and output elements\n",
    "import collections\n",
    "from sklearn.preprocessing import LabelEncoder\n",
    "from sklearn import linear_model, metrics, preprocessing\n",
    "from collections import Counter \n",
    "import matplotlib.pyplot as plt\n",
    "y = LabelEncoder().fit_transform(y)\n",
    "# summarize distribution\n",
    "counter = Counter(y)\n",
    "for k,v in counter.items():\n",
    "    per = v / len(y) * 100\n",
    "    print('Class=%d, n=%d (%.3f%%)' % (k, v, per))\n",
    "# plot the distribution\n",
    "plt.bar(counter.keys(), counter.values())\n",
    "plt.xlim(-0.5, 3.5)\n",
    "plt.show()"
   ]
  },
  {
   "cell_type": "markdown",
   "metadata": {},
   "source": [
    "### Splitting the data into train and test split "
   ]
  },
  {
   "cell_type": "code",
   "execution_count": 20,
   "metadata": {},
   "outputs": [],
   "source": [
    "from sklearn.model_selection import train_test_split, GridSearchCV\n",
    "X_train, X_test, y_train, y_test = train_test_split(X, y, test_size = 0.2, random_state = 42)"
   ]
  },
  {
   "cell_type": "code",
   "execution_count": 21,
   "metadata": {},
   "outputs": [
    {
     "data": {
      "text/html": [
       "<div>\n",
       "<style scoped>\n",
       "    .dataframe tbody tr th:only-of-type {\n",
       "        vertical-align: middle;\n",
       "    }\n",
       "\n",
       "    .dataframe tbody tr th {\n",
       "        vertical-align: top;\n",
       "    }\n",
       "\n",
       "    .dataframe thead th {\n",
       "        text-align: right;\n",
       "    }\n",
       "</style>\n",
       "<table border=\"1\" class=\"dataframe\">\n",
       "  <thead>\n",
       "    <tr style=\"text-align: right;\">\n",
       "      <th></th>\n",
       "      <th>doors</th>\n",
       "      <th>persons</th>\n",
       "      <th>buying_high</th>\n",
       "      <th>buying_low</th>\n",
       "      <th>buying_med</th>\n",
       "      <th>buying_vhigh</th>\n",
       "      <th>maint_high</th>\n",
       "      <th>maint_low</th>\n",
       "      <th>maint_med</th>\n",
       "      <th>maint_vhigh</th>\n",
       "      <th>lug_boot_big</th>\n",
       "      <th>lug_boot_med</th>\n",
       "      <th>lug_boot_small</th>\n",
       "      <th>safety_high</th>\n",
       "      <th>safety_low</th>\n",
       "      <th>safety_med</th>\n",
       "    </tr>\n",
       "  </thead>\n",
       "  <tbody>\n",
       "    <tr>\n",
       "      <th>107</th>\n",
       "      <td>5</td>\n",
       "      <td>5</td>\n",
       "      <td>0</td>\n",
       "      <td>0</td>\n",
       "      <td>0</td>\n",
       "      <td>1</td>\n",
       "      <td>0</td>\n",
       "      <td>0</td>\n",
       "      <td>0</td>\n",
       "      <td>1</td>\n",
       "      <td>1</td>\n",
       "      <td>0</td>\n",
       "      <td>0</td>\n",
       "      <td>1</td>\n",
       "      <td>0</td>\n",
       "      <td>0</td>\n",
       "    </tr>\n",
       "    <tr>\n",
       "      <th>901</th>\n",
       "      <td>3</td>\n",
       "      <td>4</td>\n",
       "      <td>0</td>\n",
       "      <td>0</td>\n",
       "      <td>1</td>\n",
       "      <td>0</td>\n",
       "      <td>0</td>\n",
       "      <td>0</td>\n",
       "      <td>0</td>\n",
       "      <td>1</td>\n",
       "      <td>0</td>\n",
       "      <td>0</td>\n",
       "      <td>1</td>\n",
       "      <td>0</td>\n",
       "      <td>0</td>\n",
       "      <td>1</td>\n",
       "    </tr>\n",
       "    <tr>\n",
       "      <th>1709</th>\n",
       "      <td>5</td>\n",
       "      <td>2</td>\n",
       "      <td>0</td>\n",
       "      <td>1</td>\n",
       "      <td>0</td>\n",
       "      <td>0</td>\n",
       "      <td>0</td>\n",
       "      <td>1</td>\n",
       "      <td>0</td>\n",
       "      <td>0</td>\n",
       "      <td>1</td>\n",
       "      <td>0</td>\n",
       "      <td>0</td>\n",
       "      <td>1</td>\n",
       "      <td>0</td>\n",
       "      <td>0</td>\n",
       "    </tr>\n",
       "    <tr>\n",
       "      <th>706</th>\n",
       "      <td>4</td>\n",
       "      <td>2</td>\n",
       "      <td>1</td>\n",
       "      <td>0</td>\n",
       "      <td>0</td>\n",
       "      <td>0</td>\n",
       "      <td>0</td>\n",
       "      <td>0</td>\n",
       "      <td>1</td>\n",
       "      <td>0</td>\n",
       "      <td>0</td>\n",
       "      <td>1</td>\n",
       "      <td>0</td>\n",
       "      <td>0</td>\n",
       "      <td>0</td>\n",
       "      <td>1</td>\n",
       "    </tr>\n",
       "    <tr>\n",
       "      <th>678</th>\n",
       "      <td>3</td>\n",
       "      <td>2</td>\n",
       "      <td>1</td>\n",
       "      <td>0</td>\n",
       "      <td>0</td>\n",
       "      <td>0</td>\n",
       "      <td>0</td>\n",
       "      <td>0</td>\n",
       "      <td>1</td>\n",
       "      <td>0</td>\n",
       "      <td>0</td>\n",
       "      <td>1</td>\n",
       "      <td>0</td>\n",
       "      <td>0</td>\n",
       "      <td>1</td>\n",
       "      <td>0</td>\n",
       "    </tr>\n",
       "  </tbody>\n",
       "</table>\n",
       "</div>"
      ],
      "text/plain": [
       "      doors  persons  buying_high  buying_low  buying_med  buying_vhigh  \\\n",
       "107       5        5            0           0           0             1   \n",
       "901       3        4            0           0           1             0   \n",
       "1709      5        2            0           1           0             0   \n",
       "706       4        2            1           0           0             0   \n",
       "678       3        2            1           0           0             0   \n",
       "\n",
       "      maint_high  maint_low  maint_med  maint_vhigh  lug_boot_big  \\\n",
       "107            0          0          0            1             1   \n",
       "901            0          0          0            1             0   \n",
       "1709           0          1          0            0             1   \n",
       "706            0          0          1            0             0   \n",
       "678            0          0          1            0             0   \n",
       "\n",
       "      lug_boot_med  lug_boot_small  safety_high  safety_low  safety_med  \n",
       "107              0               0            1           0           0  \n",
       "901              0               1            0           0           1  \n",
       "1709             0               0            1           0           0  \n",
       "706              1               0            0           0           1  \n",
       "678              1               0            0           1           0  "
      ]
     },
     "execution_count": 21,
     "metadata": {},
     "output_type": "execute_result"
    }
   ],
   "source": [
    "pd.DataFrame(X_train).head()"
   ]
  },
  {
   "cell_type": "markdown",
   "metadata": {},
   "source": [
    "### SMOTE Technique to Oversample the Minority Class"
   ]
  },
  {
   "cell_type": "code",
   "execution_count": 22,
   "metadata": {},
   "outputs": [],
   "source": [
    "# transform the dataset\n",
    "import warnings\n",
    "warnings.filterwarnings(\"ignore\")\n",
    "warnings.filterwarnings(\"ignore\", category=UserWarning)\n",
    "from imblearn.over_sampling import SMOTEN\n",
    "strategy = {0:1200, 1:1200, 2:1200, 3:1200}\n",
    "oversample = SMOTEN(sampling_strategy=strategy)\n",
    "X_train, y_train = oversample.fit_resample(X_train, y_train)"
   ]
  },
  {
   "cell_type": "code",
   "execution_count": 23,
   "metadata": {},
   "outputs": [
    {
     "data": {
      "text/plain": [
       "0    1200\n",
       "1    1200\n",
       "2    1200\n",
       "3    1200\n",
       "dtype: int64"
      ]
     },
     "execution_count": 23,
     "metadata": {},
     "output_type": "execute_result"
    }
   ],
   "source": [
    "pd.DataFrame(y_train).value_counts()"
   ]
  },
  {
   "cell_type": "code",
   "execution_count": 24,
   "metadata": {},
   "outputs": [],
   "source": [
    "import pandas as pd\n",
    "from sklearn.tree import DecisionTreeClassifier\n",
    "from sklearn.neighbors import KNeighborsClassifier\n",
    "from sklearn.linear_model import LogisticRegression\n",
    "from sklearn.svm import SVC\n",
    "from sklearn.model_selection import train_test_split, GridSearchCV\n",
    "from sklearn.metrics import make_scorer,classification_report, recall_score, roc_auc_score, f1_score\n",
    "from sklearn.metrics import plot_confusion_matrix\n",
    "import matplotlib.pyplot as plt\n",
    "from sklearn import tree\n",
    "from sklearn.model_selection import KFold, cross_val_score\n",
    "import warnings\n",
    "warnings.filterwarnings(\"ignore\")\n",
    "warnings.filterwarnings(\"ignore\", category=UserWarning)"
   ]
  },
  {
   "cell_type": "code",
   "execution_count": 25,
   "metadata": {},
   "outputs": [],
   "source": [
    "def Average(lst):\n",
    "    return sum(lst) / len(lst)"
   ]
  },
  {
   "cell_type": "markdown",
   "metadata": {},
   "source": [
    "## Running Nested Cross Validation for various Model (decision tree, k-NN, logistic regression, NB, SVM)"
   ]
  },
  {
   "cell_type": "markdown",
   "metadata": {},
   "source": [
    "#### Nested Cross Validation for Decision Tree"
   ]
  },
  {
   "cell_type": "code",
   "execution_count": 26,
   "metadata": {},
   "outputs": [],
   "source": [
    "\n",
    "import numpy as np\n",
    "scoring = 'accuracy'\n",
    "N_TRIALS = 10\n",
    "nested_scores_dt = np.zeros(N_TRIALS)\n",
    "for i in range(N_TRIALS):\n",
    "    inner_cv=KFold(n_splits=5,shuffle=True,random_state=i)\n",
    "    outer_cv=KFold(n_splits=5,shuffle=True,random_state=i)\n",
    "    dt = DecisionTreeClassifier(random_state=42)\n",
    "    dt_grid = {'max_depth':list(range(0,10)),'min_samples_leaf':[2, 3, 4], 'min_samples_split':[10, 20, 30], \n",
    "                 'criterion':['entropy','gini']}   \n",
    "    dt_clf = GridSearchCV(estimator = dt, param_grid = dt_grid, cv = inner_cv, scoring = scoring)   \n",
    "    dt_score=cross_val_score(dt_clf,X_train,y_train, cv = outer_cv)\n",
    "    nested_scores_dt[i] = dt_score.mean()     "
   ]
  },
  {
   "cell_type": "code",
   "execution_count": 27,
   "metadata": {},
   "outputs": [
    {
     "name": "stdout",
     "output_type": "stream",
     "text": [
      "Mean accuracy for training data set with cross validations for decision tree: 0.9810000000000001\n"
     ]
    }
   ],
   "source": [
    "print(\"Mean accuracy for training data set with cross validations for decision tree:\",nested_scores_dt.mean())"
   ]
  },
  {
   "cell_type": "markdown",
   "metadata": {},
   "source": [
    "#### Nested Cross Validation for KNN Classifier "
   ]
  },
  {
   "cell_type": "code",
   "execution_count": 28,
   "metadata": {},
   "outputs": [],
   "source": [
    "import numpy as np\n",
    "scoring = 'accuracy'\n",
    "N_TRIALS = 10\n",
    "nested_scores_knn = np.zeros(N_TRIALS)\n",
    "for i in range(N_TRIALS):\n",
    "    inner_cv=KFold(n_splits=5,shuffle=True,random_state=i)\n",
    "    outer_cv=KFold(n_splits=5,shuffle=True,random_state=i)\n",
    "    knn = KNeighborsClassifier()\n",
    "    knn_grid = {'n_neighbors':list(range(2,8)), 'p':[1,2,3], 'weights':['uniform','distance']}\n",
    "    knn_clf = GridSearchCV(estimator = knn, param_grid = knn_grid, cv = inner_cv, scoring = scoring)  \n",
    "    knn_score=cross_val_score(knn_clf,X_train,y_train, cv = outer_cv)\n",
    "    nested_scores_knn[i] = knn_score.mean()     "
   ]
  },
  {
   "cell_type": "code",
   "execution_count": 39,
   "metadata": {},
   "outputs": [
    {
     "name": "stdout",
     "output_type": "stream",
     "text": [
      "Mean accuracy for training data set with cross validations for KNN classifier: 0.9878333333333333\n"
     ]
    }
   ],
   "source": [
    "print(\"Mean accuracy for training data set with cross validations for KNN classifier:\",nested_scores_knn.mean())"
   ]
  },
  {
   "cell_type": "markdown",
   "metadata": {},
   "source": [
    "#### Nested Cross Validation for Logistic Regression Classifier "
   ]
  },
  {
   "cell_type": "code",
   "execution_count": 30,
   "metadata": {},
   "outputs": [],
   "source": [
    "scoring = 'accuracy'\n",
    "N_TRIALS = 10\n",
    "nested_scores_log = np.zeros(N_TRIALS)\n",
    "for i in range(N_TRIALS):\n",
    "    inner_cv=KFold(n_splits=5,shuffle=True,random_state=100)\n",
    "    outer_cv=KFold(n_splits=5,shuffle=True,random_state=100)\n",
    "    log = LogisticRegression(random_state=42, multi_class = 'multinomial')\n",
    "    lr_grid = {'C': [0.001, 0.01, 0.05, 0.1, 1, 10, 100], 'penalty' : ['l1','l2'],'solver': ['lbfgs','liblinear','sag','saga','newton-cg']}\n",
    "    lr_clf = GridSearchCV(estimator = log, param_grid = lr_grid, cv = inner_cv, scoring = scoring)\n",
    "    lr_score=cross_val_score(lr_clf,X_train,y_train, cv = outer_cv)\n",
    "    nested_scores_log[i] = lr_score.mean() "
   ]
  },
  {
   "cell_type": "code",
   "execution_count": 31,
   "metadata": {},
   "outputs": [
    {
     "name": "stdout",
     "output_type": "stream",
     "text": [
      "Mean accuracy for training data set with 5 cross validations for logistic regression: 0.9441666666666665\n"
     ]
    }
   ],
   "source": [
    "print(\"Mean accuracy for training data set with 5 cross validations for logistic regression:\",nested_scores_log.mean())"
   ]
  },
  {
   "cell_type": "markdown",
   "metadata": {},
   "source": [
    "#### Nested Cross Validation for SVC Classifier "
   ]
  },
  {
   "cell_type": "code",
   "execution_count": 32,
   "metadata": {},
   "outputs": [],
   "source": [
    "scoring = 'accuracy'\n",
    "N_TRIALS = 10\n",
    "nested_scores_svc = np.zeros(N_TRIALS)\n",
    "for i in range(N_TRIALS):\n",
    "    inner_cv=KFold(n_splits=5,shuffle=True,random_state=100)\n",
    "    outer_cv=KFold(n_splits=5,shuffle=True,random_state=100)\n",
    "    svc = SVC(random_state = 42, probability=True)\n",
    "    svc_grid = [{'kernel': ['rbf'], 'gamma': [0.1, 0.5],'C': [1, 10, 100, 1000]}, \n",
    "              {'kernel': ['linear'], 'C': [1, 10, 100, 1000]}]\n",
    "    svc_clf = GridSearchCV(estimator = svc, param_grid = svc_grid, cv=inner_cv, scoring = scoring)\n",
    "    svc_score=cross_val_score(svc_clf,X_train,y_train, cv = outer_cv)\n",
    "    nested_scores_svc[i] = svc_score.mean()"
   ]
  },
  {
   "cell_type": "code",
   "execution_count": 33,
   "metadata": {},
   "outputs": [
    {
     "name": "stdout",
     "output_type": "stream",
     "text": [
      "Mean accuracy for training data set with cross validations for SVC: 0.9966666666666665\n"
     ]
    }
   ],
   "source": [
    "print(\"Mean accuracy for training data set with cross validations for SVC:\",nested_scores_svc.mean())"
   ]
  },
  {
   "cell_type": "markdown",
   "metadata": {},
   "source": [
    "#### Nested Cross Validation for Naive Bayes Classifier "
   ]
  },
  {
   "cell_type": "code",
   "execution_count": 35,
   "metadata": {},
   "outputs": [],
   "source": [
    "from sklearn.naive_bayes import MultinomialNB\n",
    "scoring = 'accuracy'\n",
    "N_TRIALS = 10\n",
    "nested_scores_nb = np.zeros(N_TRIALS)\n",
    "for i in range(N_TRIALS):\n",
    "    inner_cv=KFold(n_splits=5,shuffle=True,random_state=100)\n",
    "    outer_cv=KFold(n_splits=5,shuffle=True,random_state=100)\n",
    "    nb = MultinomialNB()\n",
    "    nb_grid = {'alpha': [1, 1e-1, 1e-2]}\n",
    "    nb_clf = GridSearchCV(estimator = nb, param_grid = nb_grid, cv = inner_cv,n_jobs=2)\n",
    "    nb_score=cross_val_score(nb_clf,X_train,y_train, cv = outer_cv, n_jobs=2)\n",
    "    nested_scores_nb[i] = nb_score.mean() "
   ]
  },
  {
   "cell_type": "code",
   "execution_count": 36,
   "metadata": {},
   "outputs": [
    {
     "name": "stdout",
     "output_type": "stream",
     "text": [
      "Mean accuracy for training data set with cross validations for Naive Bayes: 0.8216666666666667\n"
     ]
    }
   ],
   "source": [
    "print(\"Mean accuracy for training data set with cross validations for Naive Bayes:\",nested_scores_nb.mean())"
   ]
  },
  {
   "cell_type": "markdown",
   "metadata": {},
   "source": [
    "#### It can be seen that out of the 5 models compared for accuracy, SVM performs the best with an average accuracy of 99.66%"
   ]
  },
  {
   "cell_type": "markdown",
   "metadata": {},
   "source": [
    "### Best Model Selection on the basis of Recall "
   ]
  },
  {
   "cell_type": "code",
   "execution_count": 59,
   "metadata": {},
   "outputs": [
    {
     "name": "stdout",
     "output_type": "stream",
     "text": [
      "Mean recall for training data set with cross validations for decision tree: 0.9803257787904298\n"
     ]
    }
   ],
   "source": [
    "import numpy as np\n",
    "scoring = 'recall_macro'\n",
    "N_TRIALS = 5\n",
    "nested_scores_dt_re = np.zeros(N_TRIALS)\n",
    "for i in range(N_TRIALS):\n",
    "    inner_cv=KFold(n_splits=5,shuffle=True,random_state=i)\n",
    "    outer_cv=KFold(n_splits=5,shuffle=True,random_state=i)\n",
    "    dt = DecisionTreeClassifier(random_state=42)\n",
    "    dt_grid = {'max_depth':list(range(0,10)),'min_samples_leaf':[2, 3, 4], 'min_samples_split':[10, 20, 30], \n",
    "                 'criterion':['entropy','gini']}   \n",
    "    dt_clf = GridSearchCV(estimator = dt, param_grid = dt_grid, cv = inner_cv, scoring = scoring)   \n",
    "    dt_score=cross_val_score(dt_clf,X_train,y_train, cv = outer_cv)\n",
    "    nested_scores_dt_re[i] = dt_score.mean()     \n",
    "print(\"Mean recall for training data set with cross validations for decision tree:\",nested_scores_dt_re.mean())"
   ]
  },
  {
   "cell_type": "code",
   "execution_count": 61,
   "metadata": {},
   "outputs": [
    {
     "name": "stdout",
     "output_type": "stream",
     "text": [
      "Mean recall for training data set with cross validations for KNN classifier: 0.9880589114741734\n"
     ]
    }
   ],
   "source": [
    "import numpy as np\n",
    "scoring = 'recall_macro'\n",
    "N_TRIALS = 5\n",
    "nested_scores_knn_re = np.zeros(N_TRIALS)\n",
    "for i in range(N_TRIALS):\n",
    "    inner_cv=KFold(n_splits=5,shuffle=True,random_state=i)\n",
    "    outer_cv=KFold(n_splits=5,shuffle=True,random_state=i)\n",
    "    knn = KNeighborsClassifier()\n",
    "    knn_grid = {'n_neighbors':list(range(2,8)), 'p':[1,2,3], 'weights':['uniform','distance']}\n",
    "    knn_clf = GridSearchCV(estimator = knn, param_grid = knn_grid, cv = inner_cv, scoring = scoring)  \n",
    "    knn_score=cross_val_score(knn_clf,X_train,y_train, cv = outer_cv)\n",
    "    nested_scores_knn_re[i] = knn_score.mean()    \n",
    "    \n",
    "print(\"Mean recall for training data set with cross validations for KNN classifier:\",nested_scores_knn_re.mean())"
   ]
  },
  {
   "cell_type": "code",
   "execution_count": 62,
   "metadata": {},
   "outputs": [
    {
     "name": "stdout",
     "output_type": "stream",
     "text": [
      "Mean recall for training data set with cross validations for Logistic Regression classifier: 0.9443447630563601\n"
     ]
    }
   ],
   "source": [
    "scoring = 'recall_macro'\n",
    "N_TRIALS = 5\n",
    "nested_scores_log_re = np.zeros(N_TRIALS)\n",
    "for i in range(N_TRIALS):\n",
    "    inner_cv=KFold(n_splits=5,shuffle=True,random_state=100)\n",
    "    outer_cv=KFold(n_splits=5,shuffle=True,random_state=100)\n",
    "    log = LogisticRegression(random_state=42, multi_class = 'multinomial')\n",
    "    lr_grid = {'C': [0.001, 0.01, 0.05, 0.1, 1, 10, 100], 'penalty' : ['l1','l2'],'solver': ['lbfgs','liblinear','sag','saga','newton-cg']}\n",
    "    lr_clf = GridSearchCV(estimator = log, param_grid = lr_grid, cv = inner_cv, scoring = scoring)\n",
    "    lr_score=cross_val_score(lr_clf,X_train,y_train, cv = outer_cv)\n",
    "    nested_scores_log_re[i] = lr_score.mean() \n",
    "    \n",
    "print(\"Mean recall for training data set with cross validations for Logistic Regression classifier:\",nested_scores_log_re.mean())"
   ]
  },
  {
   "cell_type": "code",
   "execution_count": 63,
   "metadata": {},
   "outputs": [
    {
     "name": "stdout",
     "output_type": "stream",
     "text": [
      "Mean recall for training data set with cross validations for SVC classifier: 0.9966074965393652\n"
     ]
    }
   ],
   "source": [
    "scoring = 'recall_macro'\n",
    "N_TRIALS = 5\n",
    "nested_scores_svc_re = np.zeros(N_TRIALS)\n",
    "for i in range(N_TRIALS):\n",
    "    inner_cv=KFold(n_splits=5,shuffle=True,random_state=100)\n",
    "    outer_cv=KFold(n_splits=5,shuffle=True,random_state=100)\n",
    "    svc = SVC(random_state = 42, probability=True)\n",
    "    svc_grid = [{'kernel': ['rbf'], 'gamma': [0.1, 0.5],'C': [1, 10, 100, 1000]}, \n",
    "              {'kernel': ['linear'], 'C': [1, 10, 100, 1000]}]\n",
    "    svc_clf = GridSearchCV(estimator = svc, param_grid = svc_grid, cv=inner_cv, scoring = scoring)\n",
    "    svc_score=cross_val_score(svc_clf,X_train,y_train, cv = outer_cv)\n",
    "    nested_scores_svc_re[i] = svc_score.mean()\n",
    "    \n",
    "print(\"Mean recall for training data set with cross validations for SVC classifier:\",nested_scores_svc_re.mean())"
   ]
  },
  {
   "cell_type": "code",
   "execution_count": 64,
   "metadata": {},
   "outputs": [
    {
     "name": "stdout",
     "output_type": "stream",
     "text": [
      "Mean recall for training data set with cross validations for Multinomial NB classifier: 0.8219441046354484\n"
     ]
    }
   ],
   "source": [
    "from sklearn.naive_bayes import MultinomialNB\n",
    "scoring = 'recall_macro'\n",
    "N_TRIALS = 5\n",
    "nested_scores_nb_re = np.zeros(N_TRIALS)\n",
    "for i in range(N_TRIALS):\n",
    "    inner_cv=KFold(n_splits=5,shuffle=True,random_state=100)\n",
    "    outer_cv=KFold(n_splits=5,shuffle=True,random_state=100)\n",
    "    nb = MultinomialNB()\n",
    "    nb_grid = {'alpha': [1, 1e-1, 1e-2]}\n",
    "    nb_clf = GridSearchCV(estimator = nb, param_grid = nb_grid, cv = inner_cv,scoring = scoring)\n",
    "    nb_score=cross_val_score(nb_clf,X_train,y_train, cv = outer_cv, scoring = scoring)\n",
    "    nested_scores_nb_re[i] = nb_score.mean() \n",
    "    \n",
    "print(\"Mean recall for training data set with cross validations for Multinomial NB classifier:\",nested_scores_nb_re.mean())"
   ]
  },
  {
   "attachments": {
    "nominal_output.PNG": {
     "image/png": "[encoded data removed]"
    }
   },
   "cell_type": "markdown",
   "metadata": {},
   "source": [
    "#### When recall is used as a performance evaluation metric, SVM again performs the best out of all 5 models. \n",
    "\n",
    "Various Model Performance on Holdout/Testing Data has been summarized in a tabular form for both accuracy and recall as evaluation metric\n",
    "\n",
    "![nominal_output.PNG](attachment:nominal_output.PNG)\n"
   ]
  },
  {
   "cell_type": "markdown",
   "metadata": {},
   "source": [
    "## Hyper Parameter Tuning for SVM Model Using Grid Search CV"
   ]
  },
  {
   "cell_type": "code",
   "execution_count": 65,
   "metadata": {
    "scrolled": true
   },
   "outputs": [
    {
     "name": "stdout",
     "output_type": "stream",
     "text": [
      "# Tuning hyper-parameters for precision\n",
      "\n",
      "Best parameters set found on development set:\n",
      "\n",
      "{'C': 1000, 'gamma': 0.1, 'kernel': 'rbf'}\n",
      "\n",
      "Grid scores on development set:\n",
      "\n",
      "0.985 (+/-0.012) for {'C': 1, 'gamma': 0.1, 'kernel': 'rbf'}\n",
      "0.988 (+/-0.033) for {'C': 1, 'gamma': 0.5, 'kernel': 'rbf'}\n",
      "0.991 (+/-0.016) for {'C': 10, 'gamma': 0.1, 'kernel': 'rbf'}\n",
      "0.990 (+/-0.033) for {'C': 10, 'gamma': 0.5, 'kernel': 'rbf'}\n",
      "0.993 (+/-0.021) for {'C': 100, 'gamma': 0.1, 'kernel': 'rbf'}\n",
      "0.990 (+/-0.033) for {'C': 100, 'gamma': 0.5, 'kernel': 'rbf'}\n",
      "0.993 (+/-0.021) for {'C': 1000, 'gamma': 0.1, 'kernel': 'rbf'}\n",
      "0.990 (+/-0.033) for {'C': 1000, 'gamma': 0.5, 'kernel': 'rbf'}\n",
      "0.960 (+/-0.012) for {'C': 1, 'kernel': 'linear'}\n",
      "0.961 (+/-0.018) for {'C': 10, 'kernel': 'linear'}\n",
      "0.960 (+/-0.012) for {'C': 100, 'kernel': 'linear'}\n",
      "0.959 (+/-0.016) for {'C': 1000, 'kernel': 'linear'}\n",
      "\n",
      "Detailed classification report:\n",
      "\n",
      "The model is trained on the full development set.\n",
      "The scores are computed on the full evaluation set.\n",
      "\n",
      "              precision    recall  f1-score   support\n",
      "\n",
      "           0       0.98      1.00      0.99        83\n",
      "           1       0.83      0.91      0.87        11\n",
      "           2       1.00      1.00      1.00       235\n",
      "           3       1.00      0.82      0.90        17\n",
      "\n",
      "    accuracy                           0.99       346\n",
      "   macro avg       0.95      0.93      0.94       346\n",
      "weighted avg       0.99      0.99      0.99       346\n",
      "\n",
      "\n",
      "# Tuning hyper-parameters for recall\n",
      "\n",
      "Best parameters set found on development set:\n",
      "\n",
      "{'C': 1000, 'gamma': 0.1, 'kernel': 'rbf'}\n",
      "\n",
      "Grid scores on development set:\n",
      "\n",
      "0.985 (+/-0.012) for {'C': 1, 'gamma': 0.1, 'kernel': 'rbf'}\n",
      "0.988 (+/-0.035) for {'C': 1, 'gamma': 0.5, 'kernel': 'rbf'}\n",
      "0.991 (+/-0.016) for {'C': 10, 'gamma': 0.1, 'kernel': 'rbf'}\n",
      "0.989 (+/-0.035) for {'C': 10, 'gamma': 0.5, 'kernel': 'rbf'}\n",
      "0.993 (+/-0.021) for {'C': 100, 'gamma': 0.1, 'kernel': 'rbf'}\n",
      "0.989 (+/-0.035) for {'C': 100, 'gamma': 0.5, 'kernel': 'rbf'}\n",
      "0.993 (+/-0.021) for {'C': 1000, 'gamma': 0.1, 'kernel': 'rbf'}\n",
      "0.989 (+/-0.035) for {'C': 1000, 'gamma': 0.5, 'kernel': 'rbf'}\n",
      "0.959 (+/-0.013) for {'C': 1, 'kernel': 'linear'}\n",
      "0.959 (+/-0.019) for {'C': 10, 'kernel': 'linear'}\n",
      "0.958 (+/-0.013) for {'C': 100, 'kernel': 'linear'}\n",
      "0.957 (+/-0.017) for {'C': 1000, 'kernel': 'linear'}\n",
      "\n",
      "Detailed classification report:\n",
      "\n",
      "The model is trained on the full development set.\n",
      "The scores are computed on the full evaluation set.\n",
      "\n",
      "              precision    recall  f1-score   support\n",
      "\n",
      "           0       0.98      1.00      0.99        83\n",
      "           1       0.83      0.91      0.87        11\n",
      "           2       1.00      1.00      1.00       235\n",
      "           3       1.00      0.82      0.90        17\n",
      "\n",
      "    accuracy                           0.99       346\n",
      "   macro avg       0.95      0.93      0.94       346\n",
      "weighted avg       0.99      0.99      0.99       346\n",
      "\n",
      "\n"
     ]
    }
   ],
   "source": [
    "parameters = [{'kernel': ['rbf'], 'gamma': [0.1, 0.5],'C': [1, 10, 100, 1000]}, \n",
    "              {'kernel': ['linear'], 'C': [1, 10, 100, 1000]}]\n",
    "\n",
    "scores = ['precision', 'recall']\n",
    "for score in scores:\n",
    "    print(\"# Tuning hyper-parameters for %s\" % score)\n",
    "    print()\n",
    "\n",
    "    clf = GridSearchCV(SVC(), parameters, cv=5, scoring='%s_macro' % score)\n",
    "    clf.fit(X_train, y_train)\n",
    "    print(\"Best parameters set found on development set:\")\n",
    "    print()\n",
    "    print(clf.best_params_)\n",
    "    print()\n",
    "    print(\"Grid scores on development set:\")\n",
    "    print()\n",
    "    means = clf.cv_results_['mean_test_score']\n",
    "    stds = clf.cv_results_['std_test_score']\n",
    "    for mean, std, params in zip(means, stds, clf.cv_results_['params']):\n",
    "        print(\"%0.3f (+/-%0.03f) for %r\"\n",
    "              % (mean, std * 2, params))\n",
    "    print()\n",
    "\n",
    "    print(\"Detailed classification report:\")\n",
    "    print()\n",
    "    print(\"The model is trained on the full development set.\")\n",
    "    print(\"The scores are computed on the full evaluation set.\")\n",
    "    print()\n",
    "    y_true, y_pred = y_test, clf.predict(X_test)\n",
    "    print(classification_report(y_true, y_pred))\n",
    "    print()"
   ]
  },
  {
   "cell_type": "code",
   "execution_count": 68,
   "metadata": {},
   "outputs": [
    {
     "data": {
      "image/png": "[encoded data removed]",
      "text/plain": [
       "<Figure size 432x288 with 1 Axes>"
      ]
     },
     "metadata": {
      "needs_background": "light"
     },
     "output_type": "display_data"
    }
   ],
   "source": [
    "from sklearn.metrics import accuracy_score\n",
    "C = [0.001, 0.01, 0.1, 1, 10, 50, 100, 1000]\n",
    "train_accuracy = []\n",
    "test_accuracy = []\n",
    "\n",
    "for i in C:\n",
    "    clf = SVC(C= i, kernel = 'rbf', gamma = 0.5, random_state=42)\n",
    "    clf.fit(X_train,y_train)\n",
    "    train_accuracy.append(accuracy_score(y_train, clf.predict(X_train)))\n",
    "    test_accuracy.append(accuracy_score(y_test, clf.predict(X_test)))\n",
    "\n",
    "# Accuracy Plot\n",
    "plt.plot(C, test_accuracy,label='test_accuracy')\n",
    "plt.plot(C, train_accuracy,label='train_accuracy')\n",
    "plt.xlabel(\"C\")\n",
    "plt.ylabel(\"Accuracy Score\")\n",
    "plt.legend()\n",
    "plt.show()"
   ]
  },
  {
   "cell_type": "code",
   "execution_count": 69,
   "metadata": {},
   "outputs": [
    {
     "data": {
      "image/png": "[encoded data removed]",
      "text/plain": [
       "<Figure size 432x288 with 1 Axes>"
      ]
     },
     "metadata": {
      "needs_background": "light"
     },
     "output_type": "display_data"
    }
   ],
   "source": [
    "from sklearn.metrics import accuracy_score\n",
    "C = [0.001, 0.01, 0.1, 1, 10]\n",
    "train_accuracy = []\n",
    "test_accuracy = []\n",
    "\n",
    "for i in C:\n",
    "    clf = SVC(C= i, kernel = 'rbf', gamma = 0.5, random_state=42)\n",
    "    clf.fit(X_train,y_train)\n",
    "    train_accuracy.append(accuracy_score(y_train, clf.predict(X_train)))\n",
    "    test_accuracy.append(accuracy_score(y_test, clf.predict(X_test)))\n",
    "\n",
    "# Accuracy Plot\n",
    "plt.plot(C, test_accuracy,label='test_accuracy')\n",
    "plt.plot(C, train_accuracy,label='train_accuracy')\n",
    "plt.xlabel(\"C\")\n",
    "plt.ylabel(\"Accuracy Score\")\n",
    "plt.legend()\n",
    "plt.show()"
   ]
  },
  {
   "cell_type": "markdown",
   "metadata": {},
   "source": [
    "##### It can be seen that beyond C = 1 there is no improvement in the testing/holdout data accuracy, hence to avoid overfitting C = 1 is taken for final model development"
   ]
  },
  {
   "cell_type": "code",
   "execution_count": 72,
   "metadata": {},
   "outputs": [
    {
     "name": "stdout",
     "output_type": "stream",
     "text": [
      "              precision    recall  f1-score   support\n",
      "\n",
      "           0       0.99      0.90      0.94        83\n",
      "           1       0.59      0.91      0.71        11\n",
      "           2       1.00      1.00      1.00       235\n",
      "           3       0.89      0.94      0.91        17\n",
      "\n",
      "    accuracy                           0.97       346\n",
      "   macro avg       0.87      0.94      0.89       346\n",
      "weighted avg       0.98      0.97      0.97       346\n",
      "\n"
     ]
    }
   ],
   "source": [
    "clf_nom = SVC(C=1, gamma = 0.1, kernel = 'rbf', random_state = 42, probability=True)\n",
    "clf_nom.fit(X_train, y_train)\n",
    "best_train_predictions_new = clf_nom.predict(X_train)\n",
    "print(classification_report(y_test, clf_nom.predict(X_test)))"
   ]
  },
  {
   "cell_type": "code",
   "execution_count": 74,
   "metadata": {},
   "outputs": [
    {
     "data": {
      "image/png": "[encoded data removed]",
      "text/plain": [
       "<Figure size 432x288 with 1 Axes>"
      ]
     },
     "metadata": {
      "needs_background": "light"
     },
     "output_type": "display_data"
    }
   ],
   "source": [
    "import scikitplot as skplt\n",
    "skplt.metrics.plot_roc(y_test, clf_nom.predict_proba(X_test), plot_micro =False, plot_macro = False)\n",
    "plt.show()"
   ]
  },
  {
   "cell_type": "code",
   "execution_count": 76,
   "metadata": {},
   "outputs": [
    {
     "data": {
      "image/png": "[encoded data removed]",
      "text/plain": [
       "<Figure size 432x288 with 2 Axes>"
      ]
     },
     "metadata": {
      "needs_background": "light"
     },
     "output_type": "display_data"
    }
   ],
   "source": [
    "from sklearn.metrics import plot_confusion_matrix\n",
    "plot_confusion_matrix(clf_nom, X_test, y_test)\n",
    "plt.show()"
   ]
  },
  {
   "cell_type": "code",
   "execution_count": 78,
   "metadata": {},
   "outputs": [
    {
     "name": "stdout",
     "output_type": "stream",
     "text": [
      "The accuracy score of SVC Classifier on Holdout data is: 0.9710982658959537\n"
     ]
    }
   ],
   "source": [
    "from sklearn.metrics import accuracy_score\n",
    "print(\"The accuracy score of SVC Classifier on Holdout data is:\", accuracy_score(y_test, clf_nom.predict(X_test)))"
   ]
  },
  {
   "cell_type": "code",
   "execution_count": 79,
   "metadata": {},
   "outputs": [
    {
     "name": "stdout",
     "output_type": "stream",
     "text": [
      "The ROC AUC score is:  0.99416308982019\n"
     ]
    }
   ],
   "source": [
    "#predicting the data\n",
    "y_pred_cnb = clf_nom.predict(X_test)\n",
    "y_prob_pred_cnb = clf_nom.predict_proba(X_test)\n",
    "\n",
    "#roc auc score\n",
    "print(\"The ROC AUC score is: \",roc_auc_score(y_test, y_prob_pred_cnb, multi_class='ovo', average='weighted'))"
   ]
  },
  {
   "cell_type": "markdown",
   "metadata": {},
   "source": [
    "### Conclusion \n",
    "\n",
    "When the categorical variables are considered ordinal, SVM performs the best in both the cases, i.e, when accuracy or recall is taken as performance evaluation metric. Best accuracy indicates that the overall model performance on identifying the majority datapoints in respective classes is more compared to other models while best recall is also a strong indicator that there are less false negative cases.\n",
    "\n",
    "The best model performance on the test/holdout data are summarized below. We can also check the performance for each different classes for precision, recall and f1_score:\n",
    "\n",
    "                precision    recall  f1-score   support\n",
    "          -----------------------------------------------\n",
    "           0       0.99      0.90      0.94        83\n",
    "           1       0.59      0.91      0.71        11\n",
    "           2       1.00      1.00      1.00       235\n",
    "           3       0.89      0.94      0.91        17"
   ]
  },
  {
   "cell_type": "markdown",
   "metadata": {},
   "source": [
    "#### Overall Model Comparison for various Performance Metrics - Accuracy & Recall on Nested CV outputs"
   ]
  },
  {
   "attachments": {
    "overall.PNG": {
     "image/png": "[encoded data removed]"
    }
   },
   "cell_type": "markdown",
   "metadata": {},
   "source": [
    "![overall.PNG](attachment:overall.PNG)"
   ]
  },
  {
   "cell_type": "markdown",
   "metadata": {},
   "source": [
    "It can be concluded from the table above that:\n",
    "- If recall is considered as performance evaluation metric, all 5 models performs better when categorical data is \n",
    "considered as nominal\n",
    "- If accuracy is considered as performance evaluation metric, then also all 5 model performs better when \n",
    "categorical data is considered as nominal \n",
    "\n",
    "\n",
    "##### Overall it is observed that all 5 models under consideration perform better when categorical data is treated as nominal and not ordinal in this case."
   ]
  },
  {
   "cell_type": "code",
   "execution_count": null,
   "metadata": {},
   "outputs": [],
   "source": []
  }
 ],
 "metadata": {
  "kernelspec": {
   "display_name": "Python 3",
   "language": "python",
   "name": "python3"
  },
  "language_info": {
   "codemirror_mode": {
    "name": "ipython",
    "version": 3
   },
   "file_extension": ".py",
   "mimetype": "text/x-python",
   "name": "python",
   "nbconvert_exporter": "python",
   "pygments_lexer": "ipython3",
   "version": "3.7.4"
  }
 },
 "nbformat": 4,
 "nbformat_minor": 2
}
