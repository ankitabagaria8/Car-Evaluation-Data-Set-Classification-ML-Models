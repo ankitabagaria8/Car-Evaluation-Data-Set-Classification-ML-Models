{
 "cells": [
  {
   "cell_type": "markdown",
   "metadata": {},
   "source": [
    "## Car Evaluation Dataset\n",
    "\n",
    "### Treating the categorical variable as Ordinal Values"
   ]
  },
  {
   "cell_type": "code",
   "execution_count": 1,
   "metadata": {},
   "outputs": [],
   "source": [
    "#Importing the dataset\n",
    "import pandas as pd\n",
    "\n",
    "df = pd.read_csv(\"car_data.csv\")"
   ]
  },
  {
   "cell_type": "code",
   "execution_count": 2,
   "metadata": {},
   "outputs": [
    {
     "data": {
      "text/html": [
       "<div>\n",
       "<style scoped>\n",
       "    .dataframe tbody tr th:only-of-type {\n",
       "        vertical-align: middle;\n",
       "    }\n",
       "\n",
       "    .dataframe tbody tr th {\n",
       "        vertical-align: top;\n",
       "    }\n",
       "\n",
       "    .dataframe thead th {\n",
       "        text-align: right;\n",
       "    }\n",
       "</style>\n",
       "<table border=\"1\" class=\"dataframe\">\n",
       "  <thead>\n",
       "    <tr style=\"text-align: right;\">\n",
       "      <th></th>\n",
       "      <th>buying</th>\n",
       "      <th>maint</th>\n",
       "      <th>doors</th>\n",
       "      <th>persons</th>\n",
       "      <th>lug_boot</th>\n",
       "      <th>safety</th>\n",
       "      <th>target</th>\n",
       "    </tr>\n",
       "  </thead>\n",
       "  <tbody>\n",
       "    <tr>\n",
       "      <th>0</th>\n",
       "      <td>vhigh</td>\n",
       "      <td>vhigh</td>\n",
       "      <td>2</td>\n",
       "      <td>2</td>\n",
       "      <td>small</td>\n",
       "      <td>low</td>\n",
       "      <td>unacc</td>\n",
       "    </tr>\n",
       "    <tr>\n",
       "      <th>1</th>\n",
       "      <td>vhigh</td>\n",
       "      <td>vhigh</td>\n",
       "      <td>2</td>\n",
       "      <td>2</td>\n",
       "      <td>small</td>\n",
       "      <td>med</td>\n",
       "      <td>unacc</td>\n",
       "    </tr>\n",
       "    <tr>\n",
       "      <th>2</th>\n",
       "      <td>vhigh</td>\n",
       "      <td>vhigh</td>\n",
       "      <td>2</td>\n",
       "      <td>2</td>\n",
       "      <td>small</td>\n",
       "      <td>high</td>\n",
       "      <td>unacc</td>\n",
       "    </tr>\n",
       "    <tr>\n",
       "      <th>3</th>\n",
       "      <td>vhigh</td>\n",
       "      <td>vhigh</td>\n",
       "      <td>2</td>\n",
       "      <td>2</td>\n",
       "      <td>med</td>\n",
       "      <td>low</td>\n",
       "      <td>unacc</td>\n",
       "    </tr>\n",
       "    <tr>\n",
       "      <th>4</th>\n",
       "      <td>vhigh</td>\n",
       "      <td>vhigh</td>\n",
       "      <td>2</td>\n",
       "      <td>2</td>\n",
       "      <td>med</td>\n",
       "      <td>med</td>\n",
       "      <td>unacc</td>\n",
       "    </tr>\n",
       "  </tbody>\n",
       "</table>\n",
       "</div>"
      ],
      "text/plain": [
       "  buying  maint doors persons lug_boot safety target\n",
       "0  vhigh  vhigh     2       2    small    low  unacc\n",
       "1  vhigh  vhigh     2       2    small    med  unacc\n",
       "2  vhigh  vhigh     2       2    small   high  unacc\n",
       "3  vhigh  vhigh     2       2      med    low  unacc\n",
       "4  vhigh  vhigh     2       2      med    med  unacc"
      ]
     },
     "execution_count": 2,
     "metadata": {},
     "output_type": "execute_result"
    }
   ],
   "source": [
    "df.head()"
   ]
  },
  {
   "cell_type": "code",
   "execution_count": 67,
   "metadata": {},
   "outputs": [],
   "source": [
    "#We would do custom mapping to convert the categorical variable into ordinal variable \n",
    "df['buying'].unique()\n",
    "df['buying'] = df['buying'].map({'vhigh':4, 'high':3, 'med':2, 'low':1})\n",
    "\n",
    "df['maint'].unique()\n",
    "df['maint'] = df['maint'].map({'vhigh':4, 'high':3, 'med':2, 'low':1})\n",
    "\n",
    "df['lug_boot'].unique()\n",
    "df['lug_boot'] = df['lug_boot'].map({'small':1, 'med':2, 'big':3})\n",
    "\n",
    "df['safety'].unique()\n",
    "df['safety']= df['safety'].map({'low':1, 'med':2, 'high':3})\n",
    "\n",
    "df['doors'].unique()\n",
    "df['doors'] = df['doors'].map({'2':2, '3':3, '4':4, '5more':5})\n",
    "\n",
    "df['persons'].unique()\n",
    "df['persons'] = df['persons'].map({'2':2, '4':4, 'more':5})"
   ]
  },
  {
   "cell_type": "code",
   "execution_count": 4,
   "metadata": {},
   "outputs": [
    {
     "data": {
      "text/html": [
       "<div>\n",
       "<style scoped>\n",
       "    .dataframe tbody tr th:only-of-type {\n",
       "        vertical-align: middle;\n",
       "    }\n",
       "\n",
       "    .dataframe tbody tr th {\n",
       "        vertical-align: top;\n",
       "    }\n",
       "\n",
       "    .dataframe thead th {\n",
       "        text-align: right;\n",
       "    }\n",
       "</style>\n",
       "<table border=\"1\" class=\"dataframe\">\n",
       "  <thead>\n",
       "    <tr style=\"text-align: right;\">\n",
       "      <th></th>\n",
       "      <th>buying</th>\n",
       "      <th>maint</th>\n",
       "      <th>doors</th>\n",
       "      <th>persons</th>\n",
       "      <th>lug_boot</th>\n",
       "      <th>safety</th>\n",
       "      <th>target</th>\n",
       "    </tr>\n",
       "  </thead>\n",
       "  <tbody>\n",
       "    <tr>\n",
       "      <th>0</th>\n",
       "      <td>4</td>\n",
       "      <td>4</td>\n",
       "      <td>2</td>\n",
       "      <td>2</td>\n",
       "      <td>1</td>\n",
       "      <td>1</td>\n",
       "      <td>unacc</td>\n",
       "    </tr>\n",
       "    <tr>\n",
       "      <th>1</th>\n",
       "      <td>4</td>\n",
       "      <td>4</td>\n",
       "      <td>2</td>\n",
       "      <td>2</td>\n",
       "      <td>1</td>\n",
       "      <td>2</td>\n",
       "      <td>unacc</td>\n",
       "    </tr>\n",
       "    <tr>\n",
       "      <th>2</th>\n",
       "      <td>4</td>\n",
       "      <td>4</td>\n",
       "      <td>2</td>\n",
       "      <td>2</td>\n",
       "      <td>1</td>\n",
       "      <td>3</td>\n",
       "      <td>unacc</td>\n",
       "    </tr>\n",
       "    <tr>\n",
       "      <th>3</th>\n",
       "      <td>4</td>\n",
       "      <td>4</td>\n",
       "      <td>2</td>\n",
       "      <td>2</td>\n",
       "      <td>2</td>\n",
       "      <td>1</td>\n",
       "      <td>unacc</td>\n",
       "    </tr>\n",
       "    <tr>\n",
       "      <th>4</th>\n",
       "      <td>4</td>\n",
       "      <td>4</td>\n",
       "      <td>2</td>\n",
       "      <td>2</td>\n",
       "      <td>2</td>\n",
       "      <td>2</td>\n",
       "      <td>unacc</td>\n",
       "    </tr>\n",
       "  </tbody>\n",
       "</table>\n",
       "</div>"
      ],
      "text/plain": [
       "   buying  maint  doors  persons  lug_boot  safety target\n",
       "0       4      4      2        2         1       1  unacc\n",
       "1       4      4      2        2         1       2  unacc\n",
       "2       4      4      2        2         1       3  unacc\n",
       "3       4      4      2        2         2       1  unacc\n",
       "4       4      4      2        2         2       2  unacc"
      ]
     },
     "execution_count": 4,
     "metadata": {},
     "output_type": "execute_result"
    }
   ],
   "source": [
    "df.head()"
   ]
  },
  {
   "cell_type": "code",
   "execution_count": 5,
   "metadata": {},
   "outputs": [],
   "source": [
    "from sklearn import linear_model, metrics, preprocessing\n",
    "le = preprocessing.LabelEncoder()\n",
    "le.fit(df.target)\n",
    "df.target = le.transform(df.target)"
   ]
  },
  {
   "cell_type": "code",
   "execution_count": 6,
   "metadata": {},
   "outputs": [],
   "source": [
    "X = df.iloc[:,list(range(0,len(df.columns)-1))]\n",
    "y = df.iloc[:, 6]"
   ]
  },
  {
   "cell_type": "code",
   "execution_count": 7,
   "metadata": {},
   "outputs": [
    {
     "data": {
      "text/html": [
       "<div>\n",
       "<style scoped>\n",
       "    .dataframe tbody tr th:only-of-type {\n",
       "        vertical-align: middle;\n",
       "    }\n",
       "\n",
       "    .dataframe tbody tr th {\n",
       "        vertical-align: top;\n",
       "    }\n",
       "\n",
       "    .dataframe thead th {\n",
       "        text-align: right;\n",
       "    }\n",
       "</style>\n",
       "<table border=\"1\" class=\"dataframe\">\n",
       "  <thead>\n",
       "    <tr style=\"text-align: right;\">\n",
       "      <th></th>\n",
       "      <th>buying</th>\n",
       "      <th>maint</th>\n",
       "      <th>doors</th>\n",
       "      <th>persons</th>\n",
       "      <th>lug_boot</th>\n",
       "      <th>safety</th>\n",
       "    </tr>\n",
       "  </thead>\n",
       "  <tbody>\n",
       "    <tr>\n",
       "      <th>0</th>\n",
       "      <td>4</td>\n",
       "      <td>4</td>\n",
       "      <td>2</td>\n",
       "      <td>2</td>\n",
       "      <td>1</td>\n",
       "      <td>1</td>\n",
       "    </tr>\n",
       "    <tr>\n",
       "      <th>1</th>\n",
       "      <td>4</td>\n",
       "      <td>4</td>\n",
       "      <td>2</td>\n",
       "      <td>2</td>\n",
       "      <td>1</td>\n",
       "      <td>2</td>\n",
       "    </tr>\n",
       "    <tr>\n",
       "      <th>2</th>\n",
       "      <td>4</td>\n",
       "      <td>4</td>\n",
       "      <td>2</td>\n",
       "      <td>2</td>\n",
       "      <td>1</td>\n",
       "      <td>3</td>\n",
       "    </tr>\n",
       "    <tr>\n",
       "      <th>3</th>\n",
       "      <td>4</td>\n",
       "      <td>4</td>\n",
       "      <td>2</td>\n",
       "      <td>2</td>\n",
       "      <td>2</td>\n",
       "      <td>1</td>\n",
       "    </tr>\n",
       "    <tr>\n",
       "      <th>4</th>\n",
       "      <td>4</td>\n",
       "      <td>4</td>\n",
       "      <td>2</td>\n",
       "      <td>2</td>\n",
       "      <td>2</td>\n",
       "      <td>2</td>\n",
       "    </tr>\n",
       "  </tbody>\n",
       "</table>\n",
       "</div>"
      ],
      "text/plain": [
       "   buying  maint  doors  persons  lug_boot  safety\n",
       "0       4      4      2        2         1       1\n",
       "1       4      4      2        2         1       2\n",
       "2       4      4      2        2         1       3\n",
       "3       4      4      2        2         2       1\n",
       "4       4      4      2        2         2       2"
      ]
     },
     "execution_count": 7,
     "metadata": {},
     "output_type": "execute_result"
    }
   ],
   "source": [
    "X.head()"
   ]
  },
  {
   "cell_type": "code",
   "execution_count": 8,
   "metadata": {},
   "outputs": [
    {
     "data": {
      "text/plain": [
       "array([2, 0, 3, 1])"
      ]
     },
     "execution_count": 8,
     "metadata": {},
     "output_type": "execute_result"
    }
   ],
   "source": [
    "y.head()\n",
    "y.unique()"
   ]
  },
  {
   "cell_type": "code",
   "execution_count": 9,
   "metadata": {},
   "outputs": [
    {
     "data": {
      "text/plain": [
       "buying      0\n",
       "maint       0\n",
       "doors       0\n",
       "persons     0\n",
       "lug_boot    0\n",
       "safety      0\n",
       "target      0\n",
       "dtype: int64"
      ]
     },
     "execution_count": 9,
     "metadata": {},
     "output_type": "execute_result"
    }
   ],
   "source": [
    "df.isnull().sum()"
   ]
  },
  {
   "cell_type": "code",
   "execution_count": 10,
   "metadata": {},
   "outputs": [
    {
     "data": {
      "text/html": [
       "<div>\n",
       "<style scoped>\n",
       "    .dataframe tbody tr th:only-of-type {\n",
       "        vertical-align: middle;\n",
       "    }\n",
       "\n",
       "    .dataframe tbody tr th {\n",
       "        vertical-align: top;\n",
       "    }\n",
       "\n",
       "    .dataframe thead th {\n",
       "        text-align: right;\n",
       "    }\n",
       "</style>\n",
       "<table border=\"1\" class=\"dataframe\">\n",
       "  <thead>\n",
       "    <tr style=\"text-align: right;\">\n",
       "      <th></th>\n",
       "      <th>buying</th>\n",
       "      <th>maint</th>\n",
       "      <th>doors</th>\n",
       "      <th>persons</th>\n",
       "      <th>lug_boot</th>\n",
       "      <th>safety</th>\n",
       "      <th>target</th>\n",
       "    </tr>\n",
       "  </thead>\n",
       "  <tbody>\n",
       "    <tr>\n",
       "      <th>count</th>\n",
       "      <td>1728.000000</td>\n",
       "      <td>1728.000000</td>\n",
       "      <td>1728.000000</td>\n",
       "      <td>1728.000000</td>\n",
       "      <td>1728.000000</td>\n",
       "      <td>1728.000000</td>\n",
       "      <td>1728.000000</td>\n",
       "    </tr>\n",
       "    <tr>\n",
       "      <th>mean</th>\n",
       "      <td>2.500000</td>\n",
       "      <td>2.500000</td>\n",
       "      <td>3.500000</td>\n",
       "      <td>3.666667</td>\n",
       "      <td>2.000000</td>\n",
       "      <td>2.000000</td>\n",
       "      <td>1.553241</td>\n",
       "    </tr>\n",
       "    <tr>\n",
       "      <th>std</th>\n",
       "      <td>1.118358</td>\n",
       "      <td>1.118358</td>\n",
       "      <td>1.118358</td>\n",
       "      <td>1.247580</td>\n",
       "      <td>0.816733</td>\n",
       "      <td>0.816733</td>\n",
       "      <td>0.875948</td>\n",
       "    </tr>\n",
       "    <tr>\n",
       "      <th>min</th>\n",
       "      <td>1.000000</td>\n",
       "      <td>1.000000</td>\n",
       "      <td>2.000000</td>\n",
       "      <td>2.000000</td>\n",
       "      <td>1.000000</td>\n",
       "      <td>1.000000</td>\n",
       "      <td>0.000000</td>\n",
       "    </tr>\n",
       "    <tr>\n",
       "      <th>25%</th>\n",
       "      <td>1.750000</td>\n",
       "      <td>1.750000</td>\n",
       "      <td>2.750000</td>\n",
       "      <td>2.000000</td>\n",
       "      <td>1.000000</td>\n",
       "      <td>1.000000</td>\n",
       "      <td>1.000000</td>\n",
       "    </tr>\n",
       "    <tr>\n",
       "      <th>50%</th>\n",
       "      <td>2.500000</td>\n",
       "      <td>2.500000</td>\n",
       "      <td>3.500000</td>\n",
       "      <td>4.000000</td>\n",
       "      <td>2.000000</td>\n",
       "      <td>2.000000</td>\n",
       "      <td>2.000000</td>\n",
       "    </tr>\n",
       "    <tr>\n",
       "      <th>75%</th>\n",
       "      <td>3.250000</td>\n",
       "      <td>3.250000</td>\n",
       "      <td>4.250000</td>\n",
       "      <td>5.000000</td>\n",
       "      <td>3.000000</td>\n",
       "      <td>3.000000</td>\n",
       "      <td>2.000000</td>\n",
       "    </tr>\n",
       "    <tr>\n",
       "      <th>max</th>\n",
       "      <td>4.000000</td>\n",
       "      <td>4.000000</td>\n",
       "      <td>5.000000</td>\n",
       "      <td>5.000000</td>\n",
       "      <td>3.000000</td>\n",
       "      <td>3.000000</td>\n",
       "      <td>3.000000</td>\n",
       "    </tr>\n",
       "  </tbody>\n",
       "</table>\n",
       "</div>"
      ],
      "text/plain": [
       "            buying        maint        doors      persons     lug_boot  \\\n",
       "count  1728.000000  1728.000000  1728.000000  1728.000000  1728.000000   \n",
       "mean      2.500000     2.500000     3.500000     3.666667     2.000000   \n",
       "std       1.118358     1.118358     1.118358     1.247580     0.816733   \n",
       "min       1.000000     1.000000     2.000000     2.000000     1.000000   \n",
       "25%       1.750000     1.750000     2.750000     2.000000     1.000000   \n",
       "50%       2.500000     2.500000     3.500000     4.000000     2.000000   \n",
       "75%       3.250000     3.250000     4.250000     5.000000     3.000000   \n",
       "max       4.000000     4.000000     5.000000     5.000000     3.000000   \n",
       "\n",
       "            safety       target  \n",
       "count  1728.000000  1728.000000  \n",
       "mean      2.000000     1.553241  \n",
       "std       0.816733     0.875948  \n",
       "min       1.000000     0.000000  \n",
       "25%       1.000000     1.000000  \n",
       "50%       2.000000     2.000000  \n",
       "75%       3.000000     2.000000  \n",
       "max       3.000000     3.000000  "
      ]
     },
     "execution_count": 10,
     "metadata": {},
     "output_type": "execute_result"
    }
   ],
   "source": [
    "df.describe()"
   ]
  },
  {
   "cell_type": "code",
   "execution_count": 11,
   "metadata": {},
   "outputs": [
    {
     "name": "stdout",
     "output_type": "stream",
     "text": [
      "<class 'pandas.core.frame.DataFrame'>\n",
      "RangeIndex: 1728 entries, 0 to 1727\n",
      "Data columns (total 7 columns):\n",
      " #   Column    Non-Null Count  Dtype\n",
      "---  ------    --------------  -----\n",
      " 0   buying    1728 non-null   int64\n",
      " 1   maint     1728 non-null   int64\n",
      " 2   doors     1728 non-null   int64\n",
      " 3   persons   1728 non-null   int64\n",
      " 4   lug_boot  1728 non-null   int64\n",
      " 5   safety    1728 non-null   int64\n",
      " 6   target    1728 non-null   int32\n",
      "dtypes: int32(1), int64(6)\n",
      "memory usage: 87.9 KB\n"
     ]
    }
   ],
   "source": [
    "df.info()"
   ]
  },
  {
   "cell_type": "code",
   "execution_count": 12,
   "metadata": {},
   "outputs": [
    {
     "data": {
      "text/plain": [
       "2    1210\n",
       "0     384\n",
       "1      69\n",
       "3      65\n",
       "Name: target, dtype: int64"
      ]
     },
     "execution_count": 12,
     "metadata": {},
     "output_type": "execute_result"
    }
   ],
   "source": [
    "y.value_counts()"
   ]
  },
  {
   "cell_type": "code",
   "execution_count": 13,
   "metadata": {},
   "outputs": [
    {
     "name": "stdout",
     "output_type": "stream",
     "text": [
      "<class 'pandas.core.frame.DataFrame'>\n",
      "RangeIndex: 1728 entries, 0 to 1727\n",
      "Data columns (total 7 columns):\n",
      " #   Column    Non-Null Count  Dtype\n",
      "---  ------    --------------  -----\n",
      " 0   buying    1728 non-null   int64\n",
      " 1   maint     1728 non-null   int64\n",
      " 2   doors     1728 non-null   int64\n",
      " 3   persons   1728 non-null   int64\n",
      " 4   lug_boot  1728 non-null   int64\n",
      " 5   safety    1728 non-null   int64\n",
      " 6   target    1728 non-null   int32\n",
      "dtypes: int32(1), int64(6)\n",
      "memory usage: 87.9 KB\n"
     ]
    }
   ],
   "source": [
    "df.info()"
   ]
  },
  {
   "cell_type": "code",
   "execution_count": 14,
   "metadata": {},
   "outputs": [],
   "source": [
    "from sklearn.preprocessing import LabelEncoder"
   ]
  },
  {
   "cell_type": "code",
   "execution_count": 15,
   "metadata": {},
   "outputs": [],
   "source": [
    "from sklearn.model_selection import train_test_split, GridSearchCV\n",
    "X_train, X_test, y_train, y_test = train_test_split(X, y, test_size = 0.2, random_state = 42)"
   ]
  },
  {
   "cell_type": "code",
   "execution_count": 16,
   "metadata": {},
   "outputs": [],
   "source": [
    "# transform the dataset\n",
    "import warnings\n",
    "warnings.filterwarnings(\"ignore\")\n",
    "warnings.filterwarnings(\"ignore\", category=UserWarning)\n",
    "from imblearn.over_sampling import SMOTE\n",
    "strategy = {0:1200, 1:1200, 2:1200, 3:1200}\n",
    "oversample = SMOTE(sampling_strategy=strategy)\n",
    "X_train, y_train = oversample.fit_resample(X_train, y_train)"
   ]
  },
  {
   "cell_type": "code",
   "execution_count": 17,
   "metadata": {},
   "outputs": [
    {
     "data": {
      "text/plain": [
       "target\n",
       "0         1200\n",
       "1         1200\n",
       "2         1200\n",
       "3         1200\n",
       "dtype: int64"
      ]
     },
     "execution_count": 17,
     "metadata": {},
     "output_type": "execute_result"
    }
   ],
   "source": [
    "pd.DataFrame(y_train).value_counts()"
   ]
  },
  {
   "cell_type": "markdown",
   "metadata": {},
   "source": [
    "## Choosing best model through Nested Cross Validation\n"
   ]
  },
  {
   "cell_type": "code",
   "execution_count": 18,
   "metadata": {},
   "outputs": [],
   "source": [
    "import pandas as pd\n",
    "from sklearn.tree import DecisionTreeClassifier\n",
    "from sklearn.neighbors import KNeighborsClassifier\n",
    "from sklearn.linear_model import LogisticRegression\n",
    "from sklearn.svm import SVC\n",
    "from sklearn.model_selection import train_test_split, GridSearchCV\n",
    "from sklearn.metrics import make_scorer,classification_report, recall_score, roc_auc_score, f1_score\n",
    "from sklearn.metrics import plot_confusion_matrix\n",
    "import matplotlib.pyplot as plt\n",
    "from sklearn import tree\n",
    "from sklearn.model_selection import KFold, cross_val_score\n",
    "import warnings\n",
    "warnings.filterwarnings(\"ignore\")\n",
    "warnings.filterwarnings(\"ignore\", category=UserWarning)\n",
    "from sklearn.naive_bayes import MultinomialNB"
   ]
  },
  {
   "cell_type": "code",
   "execution_count": 19,
   "metadata": {},
   "outputs": [],
   "source": [
    "import pandas as pd\n",
    "from sklearn.tree import DecisionTreeClassifier\n",
    "from sklearn.neighbors import KNeighborsClassifier\n",
    "from sklearn.linear_model import LogisticRegression\n",
    "from sklearn.svm import SVC\n",
    "from sklearn.model_selection import train_test_split, GridSearchCV\n",
    "from sklearn.metrics import make_scorer,classification_report, recall_score, roc_auc_score, f1_score\n",
    "from sklearn.metrics import plot_confusion_matrix\n",
    "import matplotlib.pyplot as plt\n",
    "from sklearn import tree\n",
    "from sklearn.model_selection import KFold, cross_val_score\n",
    "import warnings\n",
    "warnings.filterwarnings(\"ignore\")\n",
    "warnings.filterwarnings(\"ignore\", category=UserWarning)"
   ]
  },
  {
   "cell_type": "markdown",
   "metadata": {},
   "source": [
    "### 'Accuracy' as the performance evaluation metric for best model selection. "
   ]
  },
  {
   "cell_type": "markdown",
   "metadata": {},
   "source": [
    "#### Exploring how well various models  perform for several different parameter values when accuracy is the evaluation metric. "
   ]
  },
  {
   "cell_type": "code",
   "execution_count": 20,
   "metadata": {
    "scrolled": true
   },
   "outputs": [],
   "source": [
    "scoring = 'accuracy'\n",
    "dt_cv_score = []\n",
    "knn_cv_score = []\n",
    "log_cv_score = []\n",
    "svc_cv_score = []\n",
    "nb_cv_score = []\n",
    "\n",
    "N_TRIALS = 10\n",
    "for i in range(N_TRIALS):\n",
    "    inner_cv=KFold(n_splits=5,shuffle=True,random_state=100)\n",
    "    outer_cv=KFold(n_splits=5,shuffle=True,random_state=100)\n",
    "    \n",
    "    dt = DecisionTreeClassifier(random_state=42)\n",
    "    dt_grid = {'max_depth':list(range(0,10)),'min_samples_leaf':[2, 3, 4], 'min_samples_split':[10, 20, 30], \n",
    "                 'criterion':['entropy','gini']}\n",
    "\n",
    "    nb = MultinomialNB()\n",
    "    nb_grid = {'alpha': [1, 1e-1, 1e-2]}\n",
    "    \n",
    "    knn = KNeighborsClassifier()\n",
    "    knn_grid = {'n_neighbors':list(range(2,8)), 'p':[1,2,3], 'weights':['uniform','distance']}\n",
    "    \n",
    "    log = LogisticRegression(random_state=42, multi_class = 'multinomial')\n",
    "    lr_grid = {'C': [0.001, 0.01, 0.05, 0.1,0.05, 1, 10, 100], 'penalty' : ['l1','l2'],'solver': ['lbfgs','liblinear','sag','saga','newton-cg']}\n",
    "\n",
    "    svc = SVC(random_state = 42, probability=True)\n",
    "    svc_grid = [{'kernel': ['rbf'], 'gamma': [0.1, 0.5],'C': [1, 10, 100, 1000]}, \n",
    "              {'kernel': ['linear'], 'C': [1, 10, 100, 1000]}]\n",
    "\n",
    "    dt_clf = GridSearchCV(estimator = dt, param_grid = dt_grid, cv = inner_cv, scoring = 'accuracy')\n",
    "    knn_clf = GridSearchCV(estimator = knn, param_grid = knn_grid, cv = inner_cv, scoring = 'accuracy')\n",
    "    svc_clf = GridSearchCV(estimator = svc, param_grid = svc_grid, cv=inner_cv, scoring = 'accuracy')\n",
    "    lr_clf = GridSearchCV(estimator = log, param_grid = lr_grid, cv = inner_cv, scoring = 'accuracy')\n",
    "    nb_clf = GridSearchCV(estimator = nb, param_grid = nb_grid, cv = inner_cv, scoring = 'accuracy')\n",
    "    \n",
    "    dt_score=cross_val_score(dt_clf,X_train,y_train, cv = outer_cv)\n",
    "    dt_score = dt_score.mean()\n",
    "    dt_cv_score.append(dt_score.mean())    \n",
    "\n",
    "    knn_score=cross_val_score(knn_clf,X_train,y_train, cv = outer_cv)\n",
    "    knn_score = knn_score.mean()\n",
    "    knn_cv_score.append(knn_score.mean())    \n",
    "   \n",
    "    lr_score=cross_val_score(lr_clf,X_train,y_train, cv = outer_cv)\n",
    "    lr_score = lr_score.mean()\n",
    "    log_cv_score.append(lr_score.mean())\n",
    "        \n",
    "    svc_score=cross_val_score(svc_clf,X_train,y_train, cv = outer_cv)\n",
    "    svc_score = svc_score.mean()\n",
    "    svc_cv_score.append(svc_score.mean())\n",
    "    \n",
    "    nb_score=cross_val_score(nb_clf,X_train,y_train, cv = outer_cv)\n",
    "    nb_score = nb_score.mean()\n",
    "    nb_cv_score.append(nb_score.mean())     \n",
    "        \n",
    "# print(\"Mean accuracy for training data set with 5 cross validations for decision tree:\",dt_cv_score)\n",
    "# print(\"Mean accuracy for training data set with 5 cross validations for KNN:\",knn_cv_score)\n",
    "# print(\"Mean accuracy for training data set with 5 cross validations for logistic regression:\",log_cv_score)\n",
    "# print(\"Mean accuracy for training data set with 5 cross validations for SVM:\",svc_cv_score)"
   ]
  },
  {
   "cell_type": "code",
   "execution_count": 21,
   "metadata": {},
   "outputs": [],
   "source": [
    "#Assign a function to calculate the mean of the accuracies \n",
    "def Average(lst):\n",
    "    return sum(lst) / len(lst)"
   ]
  },
  {
   "cell_type": "code",
   "execution_count": 22,
   "metadata": {},
   "outputs": [
    {
     "name": "stdout",
     "output_type": "stream",
     "text": [
      "0.9808333333333332\n",
      "0.9672916666666668\n",
      "0.8816666666666668\n",
      "0.9862500000000001\n",
      "0.6729166666666666\n"
     ]
    }
   ],
   "source": [
    "dt_avg = Average(dt_cv_score)\n",
    "knn_avg = Average(knn_cv_score)\n",
    "log_avg = Average(log_cv_score)\n",
    "svc_avg = Average(svc_cv_score)\n",
    "nb_avg = Average(nb_cv_score)\n",
    "\n",
    "print(dt_avg)\n",
    "print(knn_avg)\n",
    "print(log_avg)\n",
    "print(svc_avg)\n",
    "print(nb_avg)"
   ]
  },
  {
   "cell_type": "markdown",
   "metadata": {},
   "source": [
    "It is observed that SVM is performing best out of all the models from Nested Cross Validation Output when accuracy is considered as performance evaluation metric"
   ]
  },
  {
   "cell_type": "markdown",
   "metadata": {},
   "source": [
    "## 'Recall' as performance evaluation metric for Best Model Selection"
   ]
  },
  {
   "cell_type": "markdown",
   "metadata": {},
   "source": [
    "#### Exploring how well various models  perform for several different parameter values when recall is the evaluation metric. "
   ]
  },
  {
   "cell_type": "markdown",
   "metadata": {},
   "source": [
    "Decision Tree Classifier"
   ]
  },
  {
   "cell_type": "code",
   "execution_count": 51,
   "metadata": {},
   "outputs": [
    {
     "name": "stdout",
     "output_type": "stream",
     "text": [
      "Mean recall for training data set with cross validations for decision tree: 0.9642736808742705\n"
     ]
    }
   ],
   "source": [
    "import numpy as np\n",
    "scoring = 'recall_macro'\n",
    "N_TRIALS = 5\n",
    "nested_scores_dt_re = np.zeros(N_TRIALS)\n",
    "for i in range(N_TRIALS):\n",
    "    inner_cv=KFold(n_splits=5,shuffle=True,random_state=i)\n",
    "    outer_cv=KFold(n_splits=5,shuffle=True,random_state=i)\n",
    "    dt = DecisionTreeClassifier(random_state=42)\n",
    "    dt_grid = {'max_depth':list(range(0,10)),'min_samples_leaf':[2, 3, 4], 'min_samples_split':[10, 20, 30], \n",
    "                 'criterion':['entropy','gini']}   \n",
    "    dt_clf = GridSearchCV(estimator = dt, param_grid = dt_grid, cv = inner_cv, scoring = scoring)   \n",
    "    dt_score=cross_val_score(dt_clf,X_train,y_train, cv = outer_cv)\n",
    "    nested_scores_dt_re[i] = dt_score.mean()     \n",
    "print(\"Mean recall for training data set with cross validations for decision tree:\",nested_scores_dt_re.mean())"
   ]
  },
  {
   "cell_type": "markdown",
   "metadata": {},
   "source": [
    "KNN Classifier "
   ]
  },
  {
   "cell_type": "code",
   "execution_count": 52,
   "metadata": {},
   "outputs": [
    {
     "name": "stdout",
     "output_type": "stream",
     "text": [
      "Mean recall for training data set with cross validations for KNN classifier: 0.9559604613125776\n"
     ]
    }
   ],
   "source": [
    "import numpy as np\n",
    "scoring = 'recall_macro'\n",
    "N_TRIALS = 5\n",
    "nested_scores_knn_re = np.zeros(N_TRIALS)\n",
    "for i in range(N_TRIALS):\n",
    "    inner_cv=KFold(n_splits=5,shuffle=True,random_state=i)\n",
    "    outer_cv=KFold(n_splits=5,shuffle=True,random_state=i)\n",
    "    knn = KNeighborsClassifier()\n",
    "    knn_grid = {'n_neighbors':list(range(2,8)), 'p':[1,2,3], 'weights':['uniform','distance']}\n",
    "    knn_clf = GridSearchCV(estimator = knn, param_grid = knn_grid, cv = inner_cv, scoring = scoring)  \n",
    "    knn_score=cross_val_score(knn_clf,X_train,y_train, cv = outer_cv)\n",
    "    nested_scores_knn_re[i] = knn_score.mean()    \n",
    "    \n",
    "print(\"Mean recall for training data set with cross validations for KNN classifier:\",nested_scores_knn_re.mean())"
   ]
  },
  {
   "cell_type": "markdown",
   "metadata": {},
   "source": [
    "Logistic Regression"
   ]
  },
  {
   "cell_type": "code",
   "execution_count": 53,
   "metadata": {},
   "outputs": [
    {
     "name": "stdout",
     "output_type": "stream",
     "text": [
      "Mean recall for training data set with cross validations for Logistic Regression classifier: 0.8646740006048672\n"
     ]
    }
   ],
   "source": [
    "scoring = 'recall_macro'\n",
    "N_TRIALS = 5\n",
    "nested_scores_log_re = np.zeros(N_TRIALS)\n",
    "for i in range(N_TRIALS):\n",
    "    inner_cv=KFold(n_splits=5,shuffle=True,random_state=100)\n",
    "    outer_cv=KFold(n_splits=5,shuffle=True,random_state=100)\n",
    "    log = LogisticRegression(random_state=42, multi_class = 'multinomial')\n",
    "    lr_grid = {'C': [0.001, 0.01, 0.05, 0.1, 1, 10, 100], 'penalty' : ['l1','l2'],'solver': ['lbfgs','liblinear','sag','saga','newton-cg']}\n",
    "    lr_clf = GridSearchCV(estimator = log, param_grid = lr_grid, cv = inner_cv, scoring = scoring)\n",
    "    lr_score=cross_val_score(lr_clf,X_train,y_train, cv = outer_cv)\n",
    "    nested_scores_log_re[i] = lr_score.mean() \n",
    "    \n",
    "print(\"Mean recall for training data set with cross validations for Logistic Regression classifier:\",nested_scores_log_re.mean())"
   ]
  },
  {
   "cell_type": "markdown",
   "metadata": {},
   "source": [
    "Support Vector Machine Classifier"
   ]
  },
  {
   "cell_type": "code",
   "execution_count": 54,
   "metadata": {},
   "outputs": [
    {
     "name": "stdout",
     "output_type": "stream",
     "text": [
      "Mean recall for training data set with cross validations for SVC classifier: 0.984334495829045\n"
     ]
    }
   ],
   "source": [
    "scoring = 'recall_macro'\n",
    "N_TRIALS = 5\n",
    "nested_scores_svc_re = np.zeros(N_TRIALS)\n",
    "for i in range(N_TRIALS):\n",
    "    inner_cv=KFold(n_splits=5,shuffle=True,random_state=100)\n",
    "    outer_cv=KFold(n_splits=5,shuffle=True,random_state=100)\n",
    "    svc = SVC(random_state = 42, probability=True)\n",
    "    svc_grid = [{'kernel': ['rbf'], 'gamma': [0.1, 0.5],'C': [1, 10, 100, 1000]}, \n",
    "              {'kernel': ['linear'], 'C': [1, 10, 100, 1000]}]\n",
    "    svc_clf = GridSearchCV(estimator = svc, param_grid = svc_grid, cv=inner_cv, scoring = scoring)\n",
    "    svc_score=cross_val_score(svc_clf,X_train,y_train, cv = outer_cv)\n",
    "    nested_scores_svc_re[i] = svc_score.mean()\n",
    "    \n",
    "print(\"Mean recall for training data set with cross validations for SVC classifier:\",nested_scores_svc_re.mean())"
   ]
  },
  {
   "cell_type": "markdown",
   "metadata": {},
   "source": [
    "Naive Bayes Classifier "
   ]
  },
  {
   "cell_type": "code",
   "execution_count": 55,
   "metadata": {},
   "outputs": [
    {
     "name": "stdout",
     "output_type": "stream",
     "text": [
      "Mean recall for training data set with cross validations for Multinomial NB classifier: 0.49173921648181357\n"
     ]
    }
   ],
   "source": [
    "from sklearn.naive_bayes import MultinomialNB\n",
    "scoring = 'recall_macro'\n",
    "N_TRIALS = 5\n",
    "nested_scores_nb_re = np.zeros(N_TRIALS)\n",
    "for i in range(N_TRIALS):\n",
    "    inner_cv=KFold(n_splits=5,shuffle=True,random_state=100)\n",
    "    outer_cv=KFold(n_splits=5,shuffle=True,random_state=100)\n",
    "    nb = MultinomialNB()\n",
    "    nb_grid = {'alpha': [1, 1e-1, 1e-2]}\n",
    "    nb_clf = GridSearchCV(estimator = nb, param_grid = nb_grid, cv = inner_cv,scoring = scoring)\n",
    "    nb_score=cross_val_score(nb_clf,X_train,y_train, cv = outer_cv, scoring = scoring)\n",
    "    nested_scores_nb_re[i] = nb_score.mean() \n",
    "    \n",
    "print(\"Mean recall for training data set with cross validations for Multinomial NB classifier:\",nested_scores_nb_re.mean())"
   ]
  },
  {
   "attachments": {
    "ordinal_output.PNG": {
     "image/png": "[encoded data removed]"
    }
   },
   "cell_type": "markdown",
   "metadata": {},
   "source": [
    "#### When recall is used as a performance evaluation metric, SVM again performs the best out of all 5 models. \n",
    "\n",
    "Various Model Performance on Holdout/Testing Data has been summarized in a tabular form for both accuracy and recall as evaluation metric\n",
    "\n",
    "![ordinal_output.PNG](attachment:ordinal_output.PNG)"
   ]
  },
  {
   "cell_type": "markdown",
   "metadata": {},
   "source": [
    "## Hyper Parameter Tuning for SVM Model Using Grid Search CV"
   ]
  },
  {
   "cell_type": "code",
   "execution_count": 59,
   "metadata": {},
   "outputs": [
    {
     "name": "stdout",
     "output_type": "stream",
     "text": [
      "# Tuning hyper-parameters for precision\n",
      "\n",
      "Best parameters set found on development set:\n",
      "\n",
      "{'C': 10, 'gamma': 0.5, 'kernel': 'rbf'}\n",
      "\n",
      "Grid scores on development set:\n",
      "\n",
      "0.966 (+/-0.019) for {'C': 1, 'gamma': 0.1, 'kernel': 'rbf'}\n",
      "0.980 (+/-0.008) for {'C': 1, 'gamma': 0.5, 'kernel': 'rbf'}\n",
      "0.982 (+/-0.012) for {'C': 10, 'gamma': 0.1, 'kernel': 'rbf'}\n",
      "0.990 (+/-0.012) for {'C': 10, 'gamma': 0.5, 'kernel': 'rbf'}\n",
      "0.984 (+/-0.014) for {'C': 100, 'gamma': 0.1, 'kernel': 'rbf'}\n",
      "0.990 (+/-0.012) for {'C': 100, 'gamma': 0.5, 'kernel': 'rbf'}\n",
      "0.985 (+/-0.014) for {'C': 1000, 'gamma': 0.1, 'kernel': 'rbf'}\n",
      "0.990 (+/-0.012) for {'C': 1000, 'gamma': 0.5, 'kernel': 'rbf'}\n",
      "0.902 (+/-0.025) for {'C': 1, 'kernel': 'linear'}\n",
      "0.909 (+/-0.026) for {'C': 10, 'kernel': 'linear'}\n",
      "0.908 (+/-0.021) for {'C': 100, 'kernel': 'linear'}\n",
      "0.908 (+/-0.025) for {'C': 1000, 'kernel': 'linear'}\n",
      "\n",
      "Detailed classification report:\n",
      "\n",
      "The model is trained on the full development set.\n",
      "The scores are computed on the full evaluation set.\n",
      "\n",
      "              precision    recall  f1-score   support\n",
      "\n",
      "           0       1.00      0.90      0.95        83\n",
      "           1       0.61      1.00      0.76        11\n",
      "           2       1.00      1.00      1.00       235\n",
      "           3       0.94      1.00      0.97        17\n",
      "\n",
      "    accuracy                           0.98       346\n",
      "   macro avg       0.89      0.98      0.92       346\n",
      "weighted avg       0.98      0.98      0.98       346\n",
      "\n",
      "\n",
      "# Tuning hyper-parameters for recall\n",
      "\n",
      "Best parameters set found on development set:\n",
      "\n",
      "{'C': 10, 'gamma': 0.5, 'kernel': 'rbf'}\n",
      "\n",
      "Grid scores on development set:\n",
      "\n",
      "0.961 (+/-0.017) for {'C': 1, 'gamma': 0.1, 'kernel': 'rbf'}\n",
      "0.975 (+/-0.007) for {'C': 1, 'gamma': 0.5, 'kernel': 'rbf'}\n",
      "0.978 (+/-0.015) for {'C': 10, 'gamma': 0.1, 'kernel': 'rbf'}\n",
      "0.987 (+/-0.006) for {'C': 10, 'gamma': 0.5, 'kernel': 'rbf'}\n",
      "0.984 (+/-0.007) for {'C': 100, 'gamma': 0.1, 'kernel': 'rbf'}\n",
      "0.987 (+/-0.006) for {'C': 100, 'gamma': 0.5, 'kernel': 'rbf'}\n",
      "0.982 (+/-0.011) for {'C': 1000, 'gamma': 0.1, 'kernel': 'rbf'}\n",
      "0.987 (+/-0.006) for {'C': 1000, 'gamma': 0.5, 'kernel': 'rbf'}\n",
      "0.881 (+/-0.029) for {'C': 1, 'kernel': 'linear'}\n",
      "0.887 (+/-0.027) for {'C': 10, 'kernel': 'linear'}\n",
      "0.887 (+/-0.026) for {'C': 100, 'kernel': 'linear'}\n",
      "0.887 (+/-0.027) for {'C': 1000, 'kernel': 'linear'}\n",
      "\n",
      "Detailed classification report:\n",
      "\n",
      "The model is trained on the full development set.\n",
      "The scores are computed on the full evaluation set.\n",
      "\n",
      "              precision    recall  f1-score   support\n",
      "\n",
      "           0       1.00      0.90      0.95        83\n",
      "           1       0.61      1.00      0.76        11\n",
      "           2       1.00      1.00      1.00       235\n",
      "           3       0.94      1.00      0.97        17\n",
      "\n",
      "    accuracy                           0.98       346\n",
      "   macro avg       0.89      0.98      0.92       346\n",
      "weighted avg       0.98      0.98      0.98       346\n",
      "\n",
      "\n"
     ]
    }
   ],
   "source": [
    "parameters = [{'kernel': ['rbf'], 'gamma': [0.1, 0.5],'C': [1, 10, 100, 1000]}, \n",
    "              {'kernel': ['linear'], 'C': [1, 10, 100, 1000]}]\n",
    "\n",
    "scores = ['precision', 'recall']\n",
    "for score in scores:\n",
    "    print(\"# Tuning hyper-parameters for %s\" % score)\n",
    "    print()\n",
    "\n",
    "    clf = GridSearchCV(SVC(), parameters, cv=5, scoring='%s_macro' % score)\n",
    "    clf.fit(X_train, y_train)\n",
    "    print(\"Best parameters set found on development set:\")\n",
    "    print()\n",
    "    print(clf.best_params_)\n",
    "    print()\n",
    "    print(\"Grid scores on development set:\")\n",
    "    print()\n",
    "    means = clf.cv_results_['mean_test_score']\n",
    "    stds = clf.cv_results_['std_test_score']\n",
    "    for mean, std, params in zip(means, stds, clf.cv_results_['params']):\n",
    "        print(\"%0.3f (+/-%0.03f) for %r\"\n",
    "              % (mean, std * 2, params))\n",
    "    print()\n",
    "\n",
    "    print(\"Detailed classification report:\")\n",
    "    print()\n",
    "    print(\"The model is trained on the full development set.\")\n",
    "    print(\"The scores are computed on the full evaluation set.\")\n",
    "    print()\n",
    "    y_true, y_pred = y_test, clf.predict(X_test)\n",
    "    print(classification_report(y_true, y_pred))\n",
    "    print()"
   ]
  },
  {
   "cell_type": "markdown",
   "metadata": {},
   "source": [
    "#### Plotting the accuracy score vs C to check the model overfitting trend"
   ]
  },
  {
   "cell_type": "code",
   "execution_count": 60,
   "metadata": {},
   "outputs": [
    {
     "data": {
      "image/png": "[encoded data removed]",
      "text/plain": [
       "<Figure size 432x288 with 1 Axes>"
      ]
     },
     "metadata": {
      "needs_background": "light"
     },
     "output_type": "display_data"
    }
   ],
   "source": [
    "from sklearn.metrics import accuracy_score\n",
    "C = [0.001, 0.01, 0.1, 1, 10, 50]\n",
    "train_accuracy = []\n",
    "test_accuracy = []\n",
    "\n",
    "for i in C:\n",
    "    clf = SVC(C= i, kernel = 'rbf', gamma = 0.5, random_state=42)\n",
    "    clf.fit(X_train,y_train)\n",
    "    train_accuracy.append(accuracy_score(y_train, clf.predict(X_train)))\n",
    "    test_accuracy.append(accuracy_score(y_test, clf.predict(X_test)))\n",
    "\n",
    "# Accuracy Plot\n",
    "plt.plot(C, test_accuracy,label='test_accuracy')\n",
    "plt.plot(C, train_accuracy,label='train_accuracy')\n",
    "plt.xlabel(\"C\")\n",
    "plt.ylabel(\"Accuracy Score\")\n",
    "plt.legend()\n",
    "plt.show()"
   ]
  },
  {
   "cell_type": "markdown",
   "metadata": {},
   "source": [
    "It is clear from the graph above that beyond C= 10, the accuracy for testing dataset is going down while for training, \n",
    "it is increasing/constant, which indicates that the model might overfit the training data and loose generalisability beyond C = 10."
   ]
  },
  {
   "cell_type": "code",
   "execution_count": 62,
   "metadata": {},
   "outputs": [
    {
     "name": "stdout",
     "output_type": "stream",
     "text": [
      "              precision    recall  f1-score   support\n",
      "\n",
      "           0       1.00      0.90      0.95        83\n",
      "           1       0.61      1.00      0.76        11\n",
      "           2       1.00      1.00      1.00       235\n",
      "           3       0.94      1.00      0.97        17\n",
      "\n",
      "    accuracy                           0.98       346\n",
      "   macro avg       0.89      0.98      0.92       346\n",
      "weighted avg       0.98      0.98      0.98       346\n",
      "\n"
     ]
    }
   ],
   "source": [
    "clf_rbf = SVC(C=10, gamma = 0.5, kernel = 'rbf', random_state = 42, probability=True)\n",
    "clf_rbf.fit(X_train, y_train)\n",
    "best_train_predictions_new = clf_rbf.predict(X_train)\n",
    "print(classification_report(y_test, clf_rbf.predict(X_test)))"
   ]
  },
  {
   "cell_type": "code",
   "execution_count": 63,
   "metadata": {},
   "outputs": [
    {
     "data": {
      "image/png": "[encoded data removed]",
      "text/plain": [
       "<Figure size 432x288 with 1 Axes>"
      ]
     },
     "metadata": {
      "needs_background": "light"
     },
     "output_type": "display_data"
    }
   ],
   "source": [
    "import scikitplot as skplt\n",
    "skplt.metrics.plot_roc(y_test, clf_rbf.predict_proba(X_test), plot_micro =False, plot_macro = False)\n",
    "plt.show()"
   ]
  },
  {
   "cell_type": "code",
   "execution_count": 64,
   "metadata": {},
   "outputs": [
    {
     "data": {
      "image/png": "[encoded data removed]",
      "text/plain": [
       "<Figure size 432x288 with 2 Axes>"
      ]
     },
     "metadata": {
      "needs_background": "light"
     },
     "output_type": "display_data"
    }
   ],
   "source": [
    "from sklearn.metrics import plot_confusion_matrix\n",
    "plot_confusion_matrix(clf_rbf, X_test, y_test)\n",
    "plt.show()"
   ]
  },
  {
   "cell_type": "code",
   "execution_count": 65,
   "metadata": {},
   "outputs": [
    {
     "name": "stdout",
     "output_type": "stream",
     "text": [
      "The accuracy score of SVC Classifier on Holdout data is: 0.976878612716763\n"
     ]
    }
   ],
   "source": [
    "from sklearn.metrics import accuracy_score\n",
    "print(\"The accuracy score of SVC Classifier on Holdout data is:\", accuracy_score(y_test, clf_rbf.predict(X_test)))"
   ]
  },
  {
   "cell_type": "code",
   "execution_count": 70,
   "metadata": {},
   "outputs": [
    {
     "name": "stdout",
     "output_type": "stream",
     "text": [
      "The ROC AUC score is:  0.9949865827135634\n"
     ]
    }
   ],
   "source": [
    "#predicting the data\n",
    "y_pred_cnb = clf_rbf.predict(X_test)\n",
    "y_prob_pred_cnb = clf_rbf.predict_proba(X_test)\n",
    "\n",
    "#roc auc score\n",
    "print(\"The ROC AUC score is: \",roc_auc_score(y_test, y_prob_pred_cnb, multi_class='ovo', average='weighted'))"
   ]
  },
  {
   "cell_type": "markdown",
   "metadata": {},
   "source": [
    "### Conclusion"
   ]
  },
  {
   "attachments": {},
   "cell_type": "markdown",
   "metadata": {},
   "source": [
    "When the categorical variables are considered ordinal, SVM performs the best in both the cases, i.e, when accuracy or recall \n",
    "is taken as performance evaluation metric. Best accuracy indicates that the overall model performance on identifying the \n",
    "majority datapoints in respective classes is more compared to other models while best recall is also a strong indicator that there are less false negative cases.\n",
    "\n",
    "The best model performance on the test/holdout data are summarized below. We can also check the performance for each different classes for precision, recall and f1_score:\n",
    "\n",
    "                precision    recall  f1-score   support\n",
    "          -----------------------------------------------\n",
    "           0       1.00      0.90      0.95        83\n",
    "           1       0.61      1.00      0.76        11\n",
    "           2       1.00      1.00      1.00       235\n",
    "           3       0.94      1.00      0.97        17"
   ]
  },
  {
   "cell_type": "code",
   "execution_count": null,
   "metadata": {},
   "outputs": [],
   "source": []
  },
  {
   "cell_type": "code",
   "execution_count": null,
   "metadata": {},
   "outputs": [],
   "source": []
  }
 ],
 "metadata": {
  "kernelspec": {
   "display_name": "Python 3",
   "language": "python",
   "name": "python3"
  },
  "language_info": {
   "codemirror_mode": {
    "name": "ipython",
    "version": 3
   },
   "file_extension": ".py",
   "mimetype": "text/x-python",
   "name": "python",
   "nbconvert_exporter": "python",
   "pygments_lexer": "ipython3",
   "version": "3.7.4"
  }
 },
 "nbformat": 4,
 "nbformat_minor": 2
}
